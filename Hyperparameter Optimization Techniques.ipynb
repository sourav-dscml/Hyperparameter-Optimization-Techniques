{
 "cells": [
  {
   "cell_type": "code",
   "execution_count": 59,
   "metadata": {},
   "outputs": [],
   "source": [
    "import pandas as pd\n",
    "import numpy as np\n",
    "from sklearn.ensemble import RandomForestClassifier\n",
    "from sklearn import metrics\n",
    "from sklearn import model_selection\n",
    "from sklearn import decomposition\n",
    "from sklearn import preprocessing\n",
    "from sklearn import pipeline"
   ]
  },
  {
   "cell_type": "code",
   "execution_count": 60,
   "metadata": {},
   "outputs": [],
   "source": [
    "df = pd.read_csv('train.csv')"
   ]
  },
  {
   "cell_type": "code",
   "execution_count": 61,
   "metadata": {},
   "outputs": [
    {
     "data": {
      "text/html": [
       "<div>\n",
       "<style scoped>\n",
       "    .dataframe tbody tr th:only-of-type {\n",
       "        vertical-align: middle;\n",
       "    }\n",
       "\n",
       "    .dataframe tbody tr th {\n",
       "        vertical-align: top;\n",
       "    }\n",
       "\n",
       "    .dataframe thead th {\n",
       "        text-align: right;\n",
       "    }\n",
       "</style>\n",
       "<table border=\"1\" class=\"dataframe\">\n",
       "  <thead>\n",
       "    <tr style=\"text-align: right;\">\n",
       "      <th></th>\n",
       "      <th>battery_power</th>\n",
       "      <th>blue</th>\n",
       "      <th>clock_speed</th>\n",
       "      <th>dual_sim</th>\n",
       "      <th>fc</th>\n",
       "      <th>four_g</th>\n",
       "      <th>int_memory</th>\n",
       "      <th>m_dep</th>\n",
       "      <th>mobile_wt</th>\n",
       "      <th>n_cores</th>\n",
       "      <th>...</th>\n",
       "      <th>px_height</th>\n",
       "      <th>px_width</th>\n",
       "      <th>ram</th>\n",
       "      <th>sc_h</th>\n",
       "      <th>sc_w</th>\n",
       "      <th>talk_time</th>\n",
       "      <th>three_g</th>\n",
       "      <th>touch_screen</th>\n",
       "      <th>wifi</th>\n",
       "      <th>price_range</th>\n",
       "    </tr>\n",
       "  </thead>\n",
       "  <tbody>\n",
       "    <tr>\n",
       "      <th>0</th>\n",
       "      <td>842</td>\n",
       "      <td>0</td>\n",
       "      <td>2.2</td>\n",
       "      <td>0</td>\n",
       "      <td>1</td>\n",
       "      <td>0</td>\n",
       "      <td>7</td>\n",
       "      <td>0.6</td>\n",
       "      <td>188</td>\n",
       "      <td>2</td>\n",
       "      <td>...</td>\n",
       "      <td>20</td>\n",
       "      <td>756</td>\n",
       "      <td>2549</td>\n",
       "      <td>9</td>\n",
       "      <td>7</td>\n",
       "      <td>19</td>\n",
       "      <td>0</td>\n",
       "      <td>0</td>\n",
       "      <td>1</td>\n",
       "      <td>1</td>\n",
       "    </tr>\n",
       "    <tr>\n",
       "      <th>1</th>\n",
       "      <td>1021</td>\n",
       "      <td>1</td>\n",
       "      <td>0.5</td>\n",
       "      <td>1</td>\n",
       "      <td>0</td>\n",
       "      <td>1</td>\n",
       "      <td>53</td>\n",
       "      <td>0.7</td>\n",
       "      <td>136</td>\n",
       "      <td>3</td>\n",
       "      <td>...</td>\n",
       "      <td>905</td>\n",
       "      <td>1988</td>\n",
       "      <td>2631</td>\n",
       "      <td>17</td>\n",
       "      <td>3</td>\n",
       "      <td>7</td>\n",
       "      <td>1</td>\n",
       "      <td>1</td>\n",
       "      <td>0</td>\n",
       "      <td>2</td>\n",
       "    </tr>\n",
       "    <tr>\n",
       "      <th>2</th>\n",
       "      <td>563</td>\n",
       "      <td>1</td>\n",
       "      <td>0.5</td>\n",
       "      <td>1</td>\n",
       "      <td>2</td>\n",
       "      <td>1</td>\n",
       "      <td>41</td>\n",
       "      <td>0.9</td>\n",
       "      <td>145</td>\n",
       "      <td>5</td>\n",
       "      <td>...</td>\n",
       "      <td>1263</td>\n",
       "      <td>1716</td>\n",
       "      <td>2603</td>\n",
       "      <td>11</td>\n",
       "      <td>2</td>\n",
       "      <td>9</td>\n",
       "      <td>1</td>\n",
       "      <td>1</td>\n",
       "      <td>0</td>\n",
       "      <td>2</td>\n",
       "    </tr>\n",
       "    <tr>\n",
       "      <th>3</th>\n",
       "      <td>615</td>\n",
       "      <td>1</td>\n",
       "      <td>2.5</td>\n",
       "      <td>0</td>\n",
       "      <td>0</td>\n",
       "      <td>0</td>\n",
       "      <td>10</td>\n",
       "      <td>0.8</td>\n",
       "      <td>131</td>\n",
       "      <td>6</td>\n",
       "      <td>...</td>\n",
       "      <td>1216</td>\n",
       "      <td>1786</td>\n",
       "      <td>2769</td>\n",
       "      <td>16</td>\n",
       "      <td>8</td>\n",
       "      <td>11</td>\n",
       "      <td>1</td>\n",
       "      <td>0</td>\n",
       "      <td>0</td>\n",
       "      <td>2</td>\n",
       "    </tr>\n",
       "    <tr>\n",
       "      <th>4</th>\n",
       "      <td>1821</td>\n",
       "      <td>1</td>\n",
       "      <td>1.2</td>\n",
       "      <td>0</td>\n",
       "      <td>13</td>\n",
       "      <td>1</td>\n",
       "      <td>44</td>\n",
       "      <td>0.6</td>\n",
       "      <td>141</td>\n",
       "      <td>2</td>\n",
       "      <td>...</td>\n",
       "      <td>1208</td>\n",
       "      <td>1212</td>\n",
       "      <td>1411</td>\n",
       "      <td>8</td>\n",
       "      <td>2</td>\n",
       "      <td>15</td>\n",
       "      <td>1</td>\n",
       "      <td>1</td>\n",
       "      <td>0</td>\n",
       "      <td>1</td>\n",
       "    </tr>\n",
       "  </tbody>\n",
       "</table>\n",
       "<p>5 rows × 21 columns</p>\n",
       "</div>"
      ],
      "text/plain": [
       "   battery_power  blue  clock_speed  dual_sim  fc  four_g  int_memory  m_dep  \\\n",
       "0            842     0          2.2         0   1       0           7    0.6   \n",
       "1           1021     1          0.5         1   0       1          53    0.7   \n",
       "2            563     1          0.5         1   2       1          41    0.9   \n",
       "3            615     1          2.5         0   0       0          10    0.8   \n",
       "4           1821     1          1.2         0  13       1          44    0.6   \n",
       "\n",
       "   mobile_wt  n_cores  ...  px_height  px_width   ram  sc_h  sc_w  talk_time  \\\n",
       "0        188        2  ...         20       756  2549     9     7         19   \n",
       "1        136        3  ...        905      1988  2631    17     3          7   \n",
       "2        145        5  ...       1263      1716  2603    11     2          9   \n",
       "3        131        6  ...       1216      1786  2769    16     8         11   \n",
       "4        141        2  ...       1208      1212  1411     8     2         15   \n",
       "\n",
       "   three_g  touch_screen  wifi  price_range  \n",
       "0        0             0     1            1  \n",
       "1        1             1     0            2  \n",
       "2        1             1     0            2  \n",
       "3        1             0     0            2  \n",
       "4        1             1     0            1  \n",
       "\n",
       "[5 rows x 21 columns]"
      ]
     },
     "execution_count": 61,
     "metadata": {},
     "output_type": "execute_result"
    }
   ],
   "source": [
    "df.head()"
   ]
  },
  {
   "cell_type": "code",
   "execution_count": 62,
   "metadata": {},
   "outputs": [],
   "source": [
    "X = df.drop('price_range', axis=1).values\n",
    "y = df.price_range.values"
   ]
  },
  {
   "cell_type": "markdown",
   "metadata": {},
   "source": [
    "### Grid Search"
   ]
  },
  {
   "cell_type": "code",
   "execution_count": 8,
   "metadata": {},
   "outputs": [],
   "source": [
    "classifier = RandomForestClassifier(n_jobs = -1)"
   ]
  },
  {
   "cell_type": "code",
   "execution_count": 9,
   "metadata": {},
   "outputs": [],
   "source": [
    "param_grid = {\n",
    "    \"n_estimators\":[100,200,300,400],\n",
    "    \"max_depth\":[1,3,5,7],\n",
    "    \"criterion\":['gini','entropy']    \n",
    "}"
   ]
  },
  {
   "cell_type": "code",
   "execution_count": 10,
   "metadata": {},
   "outputs": [],
   "source": [
    "model = model_selection.GridSearchCV(\n",
    "    estimator = classifier,\n",
    "    param_grid = param_grid,\n",
    "    scoring = 'accuracy',\n",
    "    verbose = 10,\n",
    "    n_jobs = 1,\n",
    "    cv = 5    \n",
    ")"
   ]
  },
  {
   "cell_type": "code",
   "execution_count": 11,
   "metadata": {},
   "outputs": [
    {
     "name": "stdout",
     "output_type": "stream",
     "text": [
      "Fitting 5 folds for each of 32 candidates, totalling 160 fits\n",
      "[CV] criterion=gini, max_depth=1, n_estimators=100 ...................\n"
     ]
    },
    {
     "name": "stderr",
     "output_type": "stream",
     "text": [
      "[Parallel(n_jobs=1)]: Using backend SequentialBackend with 1 concurrent workers.\n"
     ]
    },
    {
     "name": "stdout",
     "output_type": "stream",
     "text": [
      "[CV]  criterion=gini, max_depth=1, n_estimators=100, score=0.605, total=   2.9s\n",
      "[CV] criterion=gini, max_depth=1, n_estimators=100 ...................\n",
      "[CV]  criterion=gini, max_depth=1, n_estimators=100, score=0.562, total=   0.2s"
     ]
    },
    {
     "name": "stderr",
     "output_type": "stream",
     "text": [
      "[Parallel(n_jobs=1)]: Done   1 out of   1 | elapsed:    2.8s remaining:    0.0s\n"
     ]
    },
    {
     "name": "stdout",
     "output_type": "stream",
     "text": [
      "\n",
      "[CV] criterion=gini, max_depth=1, n_estimators=100 ...................\n",
      "[CV]  criterion=gini, max_depth=1, n_estimators=100, score=0.647, total=   0.2s\n",
      "[CV] criterion=gini, max_depth=1, n_estimators=100 ...................\n"
     ]
    },
    {
     "name": "stderr",
     "output_type": "stream",
     "text": [
      "[Parallel(n_jobs=1)]: Done   2 out of   2 | elapsed:    3.0s remaining:    0.0s\n",
      "[Parallel(n_jobs=1)]: Done   3 out of   3 | elapsed:    3.2s remaining:    0.0s\n",
      "[Parallel(n_jobs=1)]: Done   4 out of   4 | elapsed:    3.3s remaining:    0.0s\n"
     ]
    },
    {
     "name": "stdout",
     "output_type": "stream",
     "text": [
      "[CV]  criterion=gini, max_depth=1, n_estimators=100, score=0.562, total=   0.2s\n",
      "[CV] criterion=gini, max_depth=1, n_estimators=100 ...................\n",
      "[CV]  criterion=gini, max_depth=1, n_estimators=100, score=0.550, total=   0.2s\n",
      "[CV] criterion=gini, max_depth=1, n_estimators=200 ...................\n"
     ]
    },
    {
     "name": "stderr",
     "output_type": "stream",
     "text": [
      "[Parallel(n_jobs=1)]: Done   5 out of   5 | elapsed:    3.5s remaining:    0.0s\n"
     ]
    },
    {
     "name": "stdout",
     "output_type": "stream",
     "text": [
      "[CV]  criterion=gini, max_depth=1, n_estimators=200, score=0.613, total=   0.3s\n",
      "[CV] criterion=gini, max_depth=1, n_estimators=200 ...................\n"
     ]
    },
    {
     "name": "stderr",
     "output_type": "stream",
     "text": [
      "[Parallel(n_jobs=1)]: Done   6 out of   6 | elapsed:    3.7s remaining:    0.0s\n"
     ]
    },
    {
     "name": "stdout",
     "output_type": "stream",
     "text": [
      "[CV]  criterion=gini, max_depth=1, n_estimators=200, score=0.598, total=   0.3s\n",
      "[CV] criterion=gini, max_depth=1, n_estimators=200 ...................\n"
     ]
    },
    {
     "name": "stderr",
     "output_type": "stream",
     "text": [
      "[Parallel(n_jobs=1)]: Done   7 out of   7 | elapsed:    4.0s remaining:    0.0s\n"
     ]
    },
    {
     "name": "stdout",
     "output_type": "stream",
     "text": [
      "[CV]  criterion=gini, max_depth=1, n_estimators=200, score=0.590, total=   0.3s\n",
      "[CV] criterion=gini, max_depth=1, n_estimators=200 ...................\n"
     ]
    },
    {
     "name": "stderr",
     "output_type": "stream",
     "text": [
      "[Parallel(n_jobs=1)]: Done   8 out of   8 | elapsed:    4.3s remaining:    0.0s\n"
     ]
    },
    {
     "name": "stdout",
     "output_type": "stream",
     "text": [
      "[CV]  criterion=gini, max_depth=1, n_estimators=200, score=0.573, total=   0.3s\n",
      "[CV] criterion=gini, max_depth=1, n_estimators=200 ...................\n"
     ]
    },
    {
     "name": "stderr",
     "output_type": "stream",
     "text": [
      "[Parallel(n_jobs=1)]: Done   9 out of   9 | elapsed:    4.6s remaining:    0.0s\n"
     ]
    },
    {
     "name": "stdout",
     "output_type": "stream",
     "text": [
      "[CV]  criterion=gini, max_depth=1, n_estimators=200, score=0.595, total=   0.3s\n",
      "[CV] criterion=gini, max_depth=1, n_estimators=300 ...................\n",
      "[CV]  criterion=gini, max_depth=1, n_estimators=300, score=0.603, total=   0.4s\n",
      "[CV] criterion=gini, max_depth=1, n_estimators=300 ...................\n",
      "[CV]  criterion=gini, max_depth=1, n_estimators=300, score=0.598, total=   0.4s\n",
      "[CV] criterion=gini, max_depth=1, n_estimators=300 ...................\n",
      "[CV]  criterion=gini, max_depth=1, n_estimators=300, score=0.613, total=   0.4s\n",
      "[CV] criterion=gini, max_depth=1, n_estimators=300 ...................\n",
      "[CV]  criterion=gini, max_depth=1, n_estimators=300, score=0.573, total=   0.4s\n",
      "[CV] criterion=gini, max_depth=1, n_estimators=300 ...................\n",
      "[CV]  criterion=gini, max_depth=1, n_estimators=300, score=0.593, total=   0.4s\n",
      "[CV] criterion=gini, max_depth=1, n_estimators=400 ...................\n",
      "[CV]  criterion=gini, max_depth=1, n_estimators=400, score=0.588, total=   0.5s\n",
      "[CV] criterion=gini, max_depth=1, n_estimators=400 ...................\n",
      "[CV]  criterion=gini, max_depth=1, n_estimators=400, score=0.603, total=   0.5s\n",
      "[CV] criterion=gini, max_depth=1, n_estimators=400 ...................\n",
      "[CV]  criterion=gini, max_depth=1, n_estimators=400, score=0.588, total=   0.5s\n",
      "[CV] criterion=gini, max_depth=1, n_estimators=400 ...................\n",
      "[CV]  criterion=gini, max_depth=1, n_estimators=400, score=0.585, total=   0.5s\n",
      "[CV] criterion=gini, max_depth=1, n_estimators=400 ...................\n",
      "[CV]  criterion=gini, max_depth=1, n_estimators=400, score=0.562, total=   0.5s\n",
      "[CV] criterion=gini, max_depth=3, n_estimators=100 ...................\n",
      "[CV]  criterion=gini, max_depth=3, n_estimators=100, score=0.795, total=   0.2s\n",
      "[CV] criterion=gini, max_depth=3, n_estimators=100 ...................\n",
      "[CV]  criterion=gini, max_depth=3, n_estimators=100, score=0.797, total=   0.2s\n",
      "[CV] criterion=gini, max_depth=3, n_estimators=100 ...................\n",
      "[CV]  criterion=gini, max_depth=3, n_estimators=100, score=0.818, total=   0.2s\n",
      "[CV] criterion=gini, max_depth=3, n_estimators=100 ...................\n",
      "[CV]  criterion=gini, max_depth=3, n_estimators=100, score=0.782, total=   0.2s\n",
      "[CV] criterion=gini, max_depth=3, n_estimators=100 ...................\n",
      "[CV]  criterion=gini, max_depth=3, n_estimators=100, score=0.797, total=   0.2s\n",
      "[CV] criterion=gini, max_depth=3, n_estimators=200 ...................\n",
      "[CV]  criterion=gini, max_depth=3, n_estimators=200, score=0.787, total=   0.3s\n",
      "[CV] criterion=gini, max_depth=3, n_estimators=200 ...................\n",
      "[CV]  criterion=gini, max_depth=3, n_estimators=200, score=0.800, total=   0.3s\n",
      "[CV] criterion=gini, max_depth=3, n_estimators=200 ...................\n",
      "[CV]  criterion=gini, max_depth=3, n_estimators=200, score=0.828, total=   0.3s\n",
      "[CV] criterion=gini, max_depth=3, n_estimators=200 ...................\n",
      "[CV]  criterion=gini, max_depth=3, n_estimators=200, score=0.805, total=   0.3s\n",
      "[CV] criterion=gini, max_depth=3, n_estimators=200 ...................\n",
      "[CV]  criterion=gini, max_depth=3, n_estimators=200, score=0.770, total=   0.3s\n",
      "[CV] criterion=gini, max_depth=3, n_estimators=300 ...................\n",
      "[CV]  criterion=gini, max_depth=3, n_estimators=300, score=0.802, total=   0.4s\n",
      "[CV] criterion=gini, max_depth=3, n_estimators=300 ...................\n",
      "[CV]  criterion=gini, max_depth=3, n_estimators=300, score=0.792, total=   0.4s\n",
      "[CV] criterion=gini, max_depth=3, n_estimators=300 ...................\n",
      "[CV]  criterion=gini, max_depth=3, n_estimators=300, score=0.828, total=   0.4s\n",
      "[CV] criterion=gini, max_depth=3, n_estimators=300 ...................\n",
      "[CV]  criterion=gini, max_depth=3, n_estimators=300, score=0.797, total=   0.4s\n",
      "[CV] criterion=gini, max_depth=3, n_estimators=300 ...................\n",
      "[CV]  criterion=gini, max_depth=3, n_estimators=300, score=0.790, total=   0.4s\n",
      "[CV] criterion=gini, max_depth=3, n_estimators=400 ...................\n",
      "[CV]  criterion=gini, max_depth=3, n_estimators=400, score=0.792, total=   0.5s\n",
      "[CV] criterion=gini, max_depth=3, n_estimators=400 ...................\n",
      "[CV]  criterion=gini, max_depth=3, n_estimators=400, score=0.792, total=   0.5s\n",
      "[CV] criterion=gini, max_depth=3, n_estimators=400 ...................\n",
      "[CV]  criterion=gini, max_depth=3, n_estimators=400, score=0.843, total=   0.5s\n",
      "[CV] criterion=gini, max_depth=3, n_estimators=400 ...................\n",
      "[CV]  criterion=gini, max_depth=3, n_estimators=400, score=0.795, total=   0.5s\n",
      "[CV] criterion=gini, max_depth=3, n_estimators=400 ...................\n",
      "[CV]  criterion=gini, max_depth=3, n_estimators=400, score=0.797, total=   0.5s\n",
      "[CV] criterion=gini, max_depth=5, n_estimators=100 ...................\n",
      "[CV]  criterion=gini, max_depth=5, n_estimators=100, score=0.828, total=   0.2s\n",
      "[CV] criterion=gini, max_depth=5, n_estimators=100 ...................\n",
      "[CV]  criterion=gini, max_depth=5, n_estimators=100, score=0.825, total=   0.2s\n",
      "[CV] criterion=gini, max_depth=5, n_estimators=100 ...................\n",
      "[CV]  criterion=gini, max_depth=5, n_estimators=100, score=0.865, total=   0.2s\n",
      "[CV] criterion=gini, max_depth=5, n_estimators=100 ...................\n",
      "[CV]  criterion=gini, max_depth=5, n_estimators=100, score=0.843, total=   0.2s\n",
      "[CV] criterion=gini, max_depth=5, n_estimators=100 ...................\n",
      "[CV]  criterion=gini, max_depth=5, n_estimators=100, score=0.818, total=   0.2s\n",
      "[CV] criterion=gini, max_depth=5, n_estimators=200 ...................\n",
      "[CV]  criterion=gini, max_depth=5, n_estimators=200, score=0.818, total=   0.3s\n",
      "[CV] criterion=gini, max_depth=5, n_estimators=200 ...................\n",
      "[CV]  criterion=gini, max_depth=5, n_estimators=200, score=0.835, total=   0.3s\n",
      "[CV] criterion=gini, max_depth=5, n_estimators=200 ...................\n",
      "[CV]  criterion=gini, max_depth=5, n_estimators=200, score=0.860, total=   0.3s\n",
      "[CV] criterion=gini, max_depth=5, n_estimators=200 ...................\n",
      "[CV]  criterion=gini, max_depth=5, n_estimators=200, score=0.833, total=   0.3s\n",
      "[CV] criterion=gini, max_depth=5, n_estimators=200 ...................\n",
      "[CV]  criterion=gini, max_depth=5, n_estimators=200, score=0.818, total=   0.3s\n",
      "[CV] criterion=gini, max_depth=5, n_estimators=300 ...................\n",
      "[CV]  criterion=gini, max_depth=5, n_estimators=300, score=0.830, total=   0.4s\n",
      "[CV] criterion=gini, max_depth=5, n_estimators=300 ...................\n",
      "[CV]  criterion=gini, max_depth=5, n_estimators=300, score=0.845, total=   0.4s\n",
      "[CV] criterion=gini, max_depth=5, n_estimators=300 ...................\n",
      "[CV]  criterion=gini, max_depth=5, n_estimators=300, score=0.865, total=   0.4s\n",
      "[CV] criterion=gini, max_depth=5, n_estimators=300 ...................\n",
      "[CV]  criterion=gini, max_depth=5, n_estimators=300, score=0.833, total=   0.4s\n",
      "[CV] criterion=gini, max_depth=5, n_estimators=300 ...................\n",
      "[CV]  criterion=gini, max_depth=5, n_estimators=300, score=0.807, total=   0.4s\n",
      "[CV] criterion=gini, max_depth=5, n_estimators=400 ...................\n",
      "[CV]  criterion=gini, max_depth=5, n_estimators=400, score=0.830, total=   0.5s\n",
      "[CV] criterion=gini, max_depth=5, n_estimators=400 ...................\n",
      "[CV]  criterion=gini, max_depth=5, n_estimators=400, score=0.838, total=   0.5s\n",
      "[CV] criterion=gini, max_depth=5, n_estimators=400 ...................\n",
      "[CV]  criterion=gini, max_depth=5, n_estimators=400, score=0.863, total=   0.5s\n",
      "[CV] criterion=gini, max_depth=5, n_estimators=400 ...................\n",
      "[CV]  criterion=gini, max_depth=5, n_estimators=400, score=0.835, total=   0.5s\n",
      "[CV] criterion=gini, max_depth=5, n_estimators=400 ...................\n",
      "[CV]  criterion=gini, max_depth=5, n_estimators=400, score=0.828, total=   0.5s\n",
      "[CV] criterion=gini, max_depth=7, n_estimators=100 ...................\n",
      "[CV]  criterion=gini, max_depth=7, n_estimators=100, score=0.868, total=   0.2s\n",
      "[CV] criterion=gini, max_depth=7, n_estimators=100 ...................\n",
      "[CV]  criterion=gini, max_depth=7, n_estimators=100, score=0.865, total=   0.2s\n",
      "[CV] criterion=gini, max_depth=7, n_estimators=100 ...................\n",
      "[CV]  criterion=gini, max_depth=7, n_estimators=100, score=0.868, total=   0.2s\n",
      "[CV] criterion=gini, max_depth=7, n_estimators=100 ...................\n",
      "[CV]  criterion=gini, max_depth=7, n_estimators=100, score=0.858, total=   0.2s\n",
      "[CV] criterion=gini, max_depth=7, n_estimators=100 ...................\n",
      "[CV]  criterion=gini, max_depth=7, n_estimators=100, score=0.835, total=   0.2s\n",
      "[CV] criterion=gini, max_depth=7, n_estimators=200 ...................\n"
     ]
    },
    {
     "name": "stdout",
     "output_type": "stream",
     "text": [
      "[CV]  criterion=gini, max_depth=7, n_estimators=200, score=0.850, total=   0.3s\n",
      "[CV] criterion=gini, max_depth=7, n_estimators=200 ...................\n",
      "[CV]  criterion=gini, max_depth=7, n_estimators=200, score=0.868, total=   0.3s\n",
      "[CV] criterion=gini, max_depth=7, n_estimators=200 ...................\n",
      "[CV]  criterion=gini, max_depth=7, n_estimators=200, score=0.880, total=   0.3s\n",
      "[CV] criterion=gini, max_depth=7, n_estimators=200 ...................\n",
      "[CV]  criterion=gini, max_depth=7, n_estimators=200, score=0.865, total=   0.3s\n",
      "[CV] criterion=gini, max_depth=7, n_estimators=200 ...................\n",
      "[CV]  criterion=gini, max_depth=7, n_estimators=200, score=0.853, total=   0.3s\n",
      "[CV] criterion=gini, max_depth=7, n_estimators=300 ...................\n",
      "[CV]  criterion=gini, max_depth=7, n_estimators=300, score=0.858, total=   0.6s\n",
      "[CV] criterion=gini, max_depth=7, n_estimators=300 ...................\n",
      "[CV]  criterion=gini, max_depth=7, n_estimators=300, score=0.865, total=   0.5s\n",
      "[CV] criterion=gini, max_depth=7, n_estimators=300 ...................\n",
      "[CV]  criterion=gini, max_depth=7, n_estimators=300, score=0.890, total=   0.4s\n",
      "[CV] criterion=gini, max_depth=7, n_estimators=300 ...................\n",
      "[CV]  criterion=gini, max_depth=7, n_estimators=300, score=0.853, total=   0.4s\n",
      "[CV] criterion=gini, max_depth=7, n_estimators=300 ...................\n",
      "[CV]  criterion=gini, max_depth=7, n_estimators=300, score=0.838, total=   0.4s\n",
      "[CV] criterion=gini, max_depth=7, n_estimators=400 ...................\n",
      "[CV]  criterion=gini, max_depth=7, n_estimators=400, score=0.870, total=   0.5s\n",
      "[CV] criterion=gini, max_depth=7, n_estimators=400 ...................\n",
      "[CV]  criterion=gini, max_depth=7, n_estimators=400, score=0.870, total=   0.5s\n",
      "[CV] criterion=gini, max_depth=7, n_estimators=400 ...................\n",
      "[CV]  criterion=gini, max_depth=7, n_estimators=400, score=0.887, total=   0.5s\n",
      "[CV] criterion=gini, max_depth=7, n_estimators=400 ...................\n",
      "[CV]  criterion=gini, max_depth=7, n_estimators=400, score=0.865, total=   0.5s\n",
      "[CV] criterion=gini, max_depth=7, n_estimators=400 ...................\n",
      "[CV]  criterion=gini, max_depth=7, n_estimators=400, score=0.845, total=   0.5s\n",
      "[CV] criterion=entropy, max_depth=1, n_estimators=100 ................\n",
      "[CV]  criterion=entropy, max_depth=1, n_estimators=100, score=0.550, total=   0.2s\n",
      "[CV] criterion=entropy, max_depth=1, n_estimators=100 ................\n",
      "[CV]  criterion=entropy, max_depth=1, n_estimators=100, score=0.557, total=   0.2s\n",
      "[CV] criterion=entropy, max_depth=1, n_estimators=100 ................\n",
      "[CV]  criterion=entropy, max_depth=1, n_estimators=100, score=0.557, total=   0.2s\n",
      "[CV] criterion=entropy, max_depth=1, n_estimators=100 ................\n",
      "[CV]  criterion=entropy, max_depth=1, n_estimators=100, score=0.578, total=   0.1s\n",
      "[CV] criterion=entropy, max_depth=1, n_estimators=100 ................\n",
      "[CV]  criterion=entropy, max_depth=1, n_estimators=100, score=0.565, total=   0.2s\n",
      "[CV] criterion=entropy, max_depth=1, n_estimators=200 ................\n",
      "[CV]  criterion=entropy, max_depth=1, n_estimators=200, score=0.560, total=   0.3s\n",
      "[CV] criterion=entropy, max_depth=1, n_estimators=200 ................\n",
      "[CV]  criterion=entropy, max_depth=1, n_estimators=200, score=0.555, total=   0.3s\n",
      "[CV] criterion=entropy, max_depth=1, n_estimators=200 ................\n",
      "[CV]  criterion=entropy, max_depth=1, n_estimators=200, score=0.575, total=   0.3s\n",
      "[CV] criterion=entropy, max_depth=1, n_estimators=200 ................\n",
      "[CV]  criterion=entropy, max_depth=1, n_estimators=200, score=0.557, total=   0.3s\n",
      "[CV] criterion=entropy, max_depth=1, n_estimators=200 ................\n",
      "[CV]  criterion=entropy, max_depth=1, n_estimators=200, score=0.560, total=   0.3s\n",
      "[CV] criterion=entropy, max_depth=1, n_estimators=300 ................\n",
      "[CV]  criterion=entropy, max_depth=1, n_estimators=300, score=0.583, total=   0.4s\n",
      "[CV] criterion=entropy, max_depth=1, n_estimators=300 ................\n",
      "[CV]  criterion=entropy, max_depth=1, n_estimators=300, score=0.545, total=   0.4s\n",
      "[CV] criterion=entropy, max_depth=1, n_estimators=300 ................\n",
      "[CV]  criterion=entropy, max_depth=1, n_estimators=300, score=0.568, total=   0.4s\n",
      "[CV] criterion=entropy, max_depth=1, n_estimators=300 ................\n",
      "[CV]  criterion=entropy, max_depth=1, n_estimators=300, score=0.560, total=   0.4s\n",
      "[CV] criterion=entropy, max_depth=1, n_estimators=300 ................\n",
      "[CV]  criterion=entropy, max_depth=1, n_estimators=300, score=0.565, total=   0.4s\n",
      "[CV] criterion=entropy, max_depth=1, n_estimators=400 ................\n",
      "[CV]  criterion=entropy, max_depth=1, n_estimators=400, score=0.575, total=   0.5s\n",
      "[CV] criterion=entropy, max_depth=1, n_estimators=400 ................\n",
      "[CV]  criterion=entropy, max_depth=1, n_estimators=400, score=0.510, total=   0.5s\n",
      "[CV] criterion=entropy, max_depth=1, n_estimators=400 ................\n",
      "[CV]  criterion=entropy, max_depth=1, n_estimators=400, score=0.557, total=   0.5s\n",
      "[CV] criterion=entropy, max_depth=1, n_estimators=400 ................\n",
      "[CV]  criterion=entropy, max_depth=1, n_estimators=400, score=0.547, total=   0.5s\n",
      "[CV] criterion=entropy, max_depth=1, n_estimators=400 ................\n",
      "[CV]  criterion=entropy, max_depth=1, n_estimators=400, score=0.560, total=   0.5s\n",
      "[CV] criterion=entropy, max_depth=3, n_estimators=100 ................\n",
      "[CV]  criterion=entropy, max_depth=3, n_estimators=100, score=0.772, total=   0.2s\n",
      "[CV] criterion=entropy, max_depth=3, n_estimators=100 ................\n",
      "[CV]  criterion=entropy, max_depth=3, n_estimators=100, score=0.723, total=   0.2s\n",
      "[CV] criterion=entropy, max_depth=3, n_estimators=100 ................\n",
      "[CV]  criterion=entropy, max_depth=3, n_estimators=100, score=0.800, total=   0.2s\n",
      "[CV] criterion=entropy, max_depth=3, n_estimators=100 ................\n",
      "[CV]  criterion=entropy, max_depth=3, n_estimators=100, score=0.715, total=   0.2s\n",
      "[CV] criterion=entropy, max_depth=3, n_estimators=100 ................\n",
      "[CV]  criterion=entropy, max_depth=3, n_estimators=100, score=0.728, total=   0.2s\n",
      "[CV] criterion=entropy, max_depth=3, n_estimators=200 ................\n",
      "[CV]  criterion=entropy, max_depth=3, n_estimators=200, score=0.748, total=   0.3s\n",
      "[CV] criterion=entropy, max_depth=3, n_estimators=200 ................\n",
      "[CV]  criterion=entropy, max_depth=3, n_estimators=200, score=0.752, total=   0.3s\n",
      "[CV] criterion=entropy, max_depth=3, n_estimators=200 ................\n",
      "[CV]  criterion=entropy, max_depth=3, n_estimators=200, score=0.785, total=   0.3s\n",
      "[CV] criterion=entropy, max_depth=3, n_estimators=200 ................\n",
      "[CV]  criterion=entropy, max_depth=3, n_estimators=200, score=0.787, total=   0.3s\n",
      "[CV] criterion=entropy, max_depth=3, n_estimators=200 ................\n",
      "[CV]  criterion=entropy, max_depth=3, n_estimators=200, score=0.785, total=   0.3s\n",
      "[CV] criterion=entropy, max_depth=3, n_estimators=300 ................\n",
      "[CV]  criterion=entropy, max_depth=3, n_estimators=300, score=0.767, total=   0.4s\n",
      "[CV] criterion=entropy, max_depth=3, n_estimators=300 ................\n",
      "[CV]  criterion=entropy, max_depth=3, n_estimators=300, score=0.757, total=   0.4s\n",
      "[CV] criterion=entropy, max_depth=3, n_estimators=300 ................\n",
      "[CV]  criterion=entropy, max_depth=3, n_estimators=300, score=0.767, total=   0.4s\n",
      "[CV] criterion=entropy, max_depth=3, n_estimators=300 ................\n",
      "[CV]  criterion=entropy, max_depth=3, n_estimators=300, score=0.805, total=   0.4s\n",
      "[CV] criterion=entropy, max_depth=3, n_estimators=300 ................\n",
      "[CV]  criterion=entropy, max_depth=3, n_estimators=300, score=0.795, total=   0.4s\n",
      "[CV] criterion=entropy, max_depth=3, n_estimators=400 ................\n",
      "[CV]  criterion=entropy, max_depth=3, n_estimators=400, score=0.782, total=   0.5s\n",
      "[CV] criterion=entropy, max_depth=3, n_estimators=400 ................\n",
      "[CV]  criterion=entropy, max_depth=3, n_estimators=400, score=0.760, total=   0.5s\n",
      "[CV] criterion=entropy, max_depth=3, n_estimators=400 ................\n",
      "[CV]  criterion=entropy, max_depth=3, n_estimators=400, score=0.815, total=   0.5s\n",
      "[CV] criterion=entropy, max_depth=3, n_estimators=400 ................\n",
      "[CV]  criterion=entropy, max_depth=3, n_estimators=400, score=0.810, total=   0.5s\n",
      "[CV] criterion=entropy, max_depth=3, n_estimators=400 ................\n"
     ]
    },
    {
     "name": "stdout",
     "output_type": "stream",
     "text": [
      "[CV]  criterion=entropy, max_depth=3, n_estimators=400, score=0.780, total=   0.5s\n",
      "[CV] criterion=entropy, max_depth=5, n_estimators=100 ................\n",
      "[CV]  criterion=entropy, max_depth=5, n_estimators=100, score=0.835, total=   0.2s\n",
      "[CV] criterion=entropy, max_depth=5, n_estimators=100 ................\n",
      "[CV]  criterion=entropy, max_depth=5, n_estimators=100, score=0.825, total=   0.2s\n",
      "[CV] criterion=entropy, max_depth=5, n_estimators=100 ................\n",
      "[CV]  criterion=entropy, max_depth=5, n_estimators=100, score=0.855, total=   0.2s\n",
      "[CV] criterion=entropy, max_depth=5, n_estimators=100 ................\n",
      "[CV]  criterion=entropy, max_depth=5, n_estimators=100, score=0.838, total=   0.2s\n",
      "[CV] criterion=entropy, max_depth=5, n_estimators=100 ................\n",
      "[CV]  criterion=entropy, max_depth=5, n_estimators=100, score=0.820, total=   0.2s\n",
      "[CV] criterion=entropy, max_depth=5, n_estimators=200 ................\n",
      "[CV]  criterion=entropy, max_depth=5, n_estimators=200, score=0.828, total=   0.3s\n",
      "[CV] criterion=entropy, max_depth=5, n_estimators=200 ................\n",
      "[CV]  criterion=entropy, max_depth=5, n_estimators=200, score=0.840, total=   0.3s\n",
      "[CV] criterion=entropy, max_depth=5, n_estimators=200 ................\n",
      "[CV]  criterion=entropy, max_depth=5, n_estimators=200, score=0.868, total=   0.3s\n",
      "[CV] criterion=entropy, max_depth=5, n_estimators=200 ................\n",
      "[CV]  criterion=entropy, max_depth=5, n_estimators=200, score=0.833, total=   0.3s\n",
      "[CV] criterion=entropy, max_depth=5, n_estimators=200 ................\n",
      "[CV]  criterion=entropy, max_depth=5, n_estimators=200, score=0.840, total=   0.3s\n",
      "[CV] criterion=entropy, max_depth=5, n_estimators=300 ................\n",
      "[CV]  criterion=entropy, max_depth=5, n_estimators=300, score=0.845, total=   0.4s\n",
      "[CV] criterion=entropy, max_depth=5, n_estimators=300 ................\n",
      "[CV]  criterion=entropy, max_depth=5, n_estimators=300, score=0.833, total=   0.4s\n",
      "[CV] criterion=entropy, max_depth=5, n_estimators=300 ................\n",
      "[CV]  criterion=entropy, max_depth=5, n_estimators=300, score=0.885, total=   0.4s\n",
      "[CV] criterion=entropy, max_depth=5, n_estimators=300 ................\n",
      "[CV]  criterion=entropy, max_depth=5, n_estimators=300, score=0.820, total=   0.4s\n",
      "[CV] criterion=entropy, max_depth=5, n_estimators=300 ................\n",
      "[CV]  criterion=entropy, max_depth=5, n_estimators=300, score=0.845, total=   0.4s\n",
      "[CV] criterion=entropy, max_depth=5, n_estimators=400 ................\n",
      "[CV]  criterion=entropy, max_depth=5, n_estimators=400, score=0.825, total=   0.5s\n",
      "[CV] criterion=entropy, max_depth=5, n_estimators=400 ................\n",
      "[CV]  criterion=entropy, max_depth=5, n_estimators=400, score=0.838, total=   0.5s\n",
      "[CV] criterion=entropy, max_depth=5, n_estimators=400 ................\n",
      "[CV]  criterion=entropy, max_depth=5, n_estimators=400, score=0.860, total=   0.6s\n",
      "[CV] criterion=entropy, max_depth=5, n_estimators=400 ................\n",
      "[CV]  criterion=entropy, max_depth=5, n_estimators=400, score=0.835, total=   0.5s\n",
      "[CV] criterion=entropy, max_depth=5, n_estimators=400 ................\n",
      "[CV]  criterion=entropy, max_depth=5, n_estimators=400, score=0.840, total=   0.5s\n",
      "[CV] criterion=entropy, max_depth=7, n_estimators=100 ................\n",
      "[CV]  criterion=entropy, max_depth=7, n_estimators=100, score=0.873, total=   0.2s\n",
      "[CV] criterion=entropy, max_depth=7, n_estimators=100 ................\n",
      "[CV]  criterion=entropy, max_depth=7, n_estimators=100, score=0.848, total=   0.2s\n",
      "[CV] criterion=entropy, max_depth=7, n_estimators=100 ................\n",
      "[CV]  criterion=entropy, max_depth=7, n_estimators=100, score=0.892, total=   0.2s\n",
      "[CV] criterion=entropy, max_depth=7, n_estimators=100 ................\n",
      "[CV]  criterion=entropy, max_depth=7, n_estimators=100, score=0.843, total=   0.2s\n",
      "[CV] criterion=entropy, max_depth=7, n_estimators=100 ................\n",
      "[CV]  criterion=entropy, max_depth=7, n_estimators=100, score=0.853, total=   0.2s\n",
      "[CV] criterion=entropy, max_depth=7, n_estimators=200 ................\n",
      "[CV]  criterion=entropy, max_depth=7, n_estimators=200, score=0.858, total=   0.3s\n",
      "[CV] criterion=entropy, max_depth=7, n_estimators=200 ................\n",
      "[CV]  criterion=entropy, max_depth=7, n_estimators=200, score=0.858, total=   0.3s\n",
      "[CV] criterion=entropy, max_depth=7, n_estimators=200 ................\n",
      "[CV]  criterion=entropy, max_depth=7, n_estimators=200, score=0.897, total=   0.3s\n",
      "[CV] criterion=entropy, max_depth=7, n_estimators=200 ................\n",
      "[CV]  criterion=entropy, max_depth=7, n_estimators=200, score=0.873, total=   0.3s\n",
      "[CV] criterion=entropy, max_depth=7, n_estimators=200 ................\n",
      "[CV]  criterion=entropy, max_depth=7, n_estimators=200, score=0.850, total=   0.3s\n",
      "[CV] criterion=entropy, max_depth=7, n_estimators=300 ................\n",
      "[CV]  criterion=entropy, max_depth=7, n_estimators=300, score=0.875, total=   0.5s\n",
      "[CV] criterion=entropy, max_depth=7, n_estimators=300 ................\n",
      "[CV]  criterion=entropy, max_depth=7, n_estimators=300, score=0.868, total=   0.5s\n",
      "[CV] criterion=entropy, max_depth=7, n_estimators=300 ................\n",
      "[CV]  criterion=entropy, max_depth=7, n_estimators=300, score=0.902, total=   0.5s\n",
      "[CV] criterion=entropy, max_depth=7, n_estimators=300 ................\n",
      "[CV]  criterion=entropy, max_depth=7, n_estimators=300, score=0.860, total=   0.5s\n",
      "[CV] criterion=entropy, max_depth=7, n_estimators=300 ................\n",
      "[CV]  criterion=entropy, max_depth=7, n_estimators=300, score=0.845, total=   0.5s\n",
      "[CV] criterion=entropy, max_depth=7, n_estimators=400 ................\n",
      "[CV]  criterion=entropy, max_depth=7, n_estimators=400, score=0.855, total=   0.6s\n",
      "[CV] criterion=entropy, max_depth=7, n_estimators=400 ................\n",
      "[CV]  criterion=entropy, max_depth=7, n_estimators=400, score=0.865, total=   0.6s\n",
      "[CV] criterion=entropy, max_depth=7, n_estimators=400 ................\n",
      "[CV]  criterion=entropy, max_depth=7, n_estimators=400, score=0.900, total=   0.6s\n",
      "[CV] criterion=entropy, max_depth=7, n_estimators=400 ................\n",
      "[CV]  criterion=entropy, max_depth=7, n_estimators=400, score=0.858, total=   0.6s\n",
      "[CV] criterion=entropy, max_depth=7, n_estimators=400 ................\n",
      "[CV]  criterion=entropy, max_depth=7, n_estimators=400, score=0.853, total=   0.6s\n"
     ]
    },
    {
     "name": "stderr",
     "output_type": "stream",
     "text": [
      "[Parallel(n_jobs=1)]: Done 160 out of 160 | elapsed:   58.7s finished\n"
     ]
    },
    {
     "data": {
      "text/plain": [
       "GridSearchCV(cv=5, estimator=RandomForestClassifier(n_jobs=-1), n_jobs=1,\n",
       "             param_grid={'criterion': ['gini', 'entropy'],\n",
       "                         'max_depth': [1, 3, 5, 7],\n",
       "                         'n_estimators': [100, 200, 300, 400]},\n",
       "             scoring='accuracy', verbose=10)"
      ]
     },
     "execution_count": 11,
     "metadata": {},
     "output_type": "execute_result"
    }
   ],
   "source": [
    "model.fit(X,y)"
   ]
  },
  {
   "cell_type": "code",
   "execution_count": 12,
   "metadata": {},
   "outputs": [
    {
     "data": {
      "text/plain": [
       "0.8699999999999999"
      ]
     },
     "execution_count": 12,
     "metadata": {},
     "output_type": "execute_result"
    }
   ],
   "source": [
    "model.best_score_"
   ]
  },
  {
   "cell_type": "code",
   "execution_count": 13,
   "metadata": {},
   "outputs": [
    {
     "data": {
      "text/plain": [
       "{'criterion': 'entropy', 'max_depth': 7, 'n_estimators': 300}"
      ]
     },
     "execution_count": 13,
     "metadata": {},
     "output_type": "execute_result"
    }
   ],
   "source": [
    "model.best_params_"
   ]
  },
  {
   "cell_type": "code",
   "execution_count": 14,
   "metadata": {},
   "outputs": [
    {
     "data": {
      "text/plain": [
       "RandomForestClassifier(criterion='entropy', max_depth=7, n_estimators=300,\n",
       "                       n_jobs=-1)"
      ]
     },
     "execution_count": 14,
     "metadata": {},
     "output_type": "execute_result"
    }
   ],
   "source": [
    "model.best_estimator_"
   ]
  },
  {
   "cell_type": "markdown",
   "metadata": {},
   "source": [
    "### Random Search"
   ]
  },
  {
   "cell_type": "code",
   "execution_count": 15,
   "metadata": {},
   "outputs": [],
   "source": [
    "param_grid = {\n",
    "    \"n_estimators\":np.arange(100,1500,100),\n",
    "    \"max_depth\":np.arange(1,20),\n",
    "    \"criterion\":['gini','entropy']    \n",
    "}"
   ]
  },
  {
   "cell_type": "code",
   "execution_count": 17,
   "metadata": {},
   "outputs": [],
   "source": [
    "model = model_selection.RandomizedSearchCV(\n",
    "    estimator = classifier,\n",
    "    param_distributions = param_grid,\n",
    "    scoring = 'accuracy',\n",
    "    verbose = 10,\n",
    "    n_jobs = 1,\n",
    "    cv = 5,\n",
    "    n_iter=15\n",
    ")"
   ]
  },
  {
   "cell_type": "code",
   "execution_count": 18,
   "metadata": {},
   "outputs": [
    {
     "name": "stdout",
     "output_type": "stream",
     "text": [
      "Fitting 5 folds for each of 15 candidates, totalling 75 fits\n",
      "[CV] n_estimators=400, max_depth=12, criterion=entropy ...............\n"
     ]
    },
    {
     "name": "stderr",
     "output_type": "stream",
     "text": [
      "[Parallel(n_jobs=1)]: Using backend SequentialBackend with 1 concurrent workers.\n"
     ]
    },
    {
     "name": "stdout",
     "output_type": "stream",
     "text": [
      "[CV]  n_estimators=400, max_depth=12, criterion=entropy, score=0.885, total=   2.6s\n",
      "[CV] n_estimators=400, max_depth=12, criterion=entropy ...............\n"
     ]
    },
    {
     "name": "stderr",
     "output_type": "stream",
     "text": [
      "[Parallel(n_jobs=1)]: Done   1 out of   1 | elapsed:    2.5s remaining:    0.0s\n"
     ]
    },
    {
     "name": "stdout",
     "output_type": "stream",
     "text": [
      "[CV]  n_estimators=400, max_depth=12, criterion=entropy, score=0.890, total=   0.7s\n",
      "[CV] n_estimators=400, max_depth=12, criterion=entropy ...............\n"
     ]
    },
    {
     "name": "stderr",
     "output_type": "stream",
     "text": [
      "[Parallel(n_jobs=1)]: Done   2 out of   2 | elapsed:    3.2s remaining:    0.0s\n"
     ]
    },
    {
     "name": "stdout",
     "output_type": "stream",
     "text": [
      "[CV]  n_estimators=400, max_depth=12, criterion=entropy, score=0.917, total=   0.7s\n",
      "[CV] n_estimators=400, max_depth=12, criterion=entropy ...............\n"
     ]
    },
    {
     "name": "stderr",
     "output_type": "stream",
     "text": [
      "[Parallel(n_jobs=1)]: Done   3 out of   3 | elapsed:    3.9s remaining:    0.0s\n"
     ]
    },
    {
     "name": "stdout",
     "output_type": "stream",
     "text": [
      "[CV]  n_estimators=400, max_depth=12, criterion=entropy, score=0.868, total=   0.8s\n",
      "[CV] n_estimators=400, max_depth=12, criterion=entropy ...............\n"
     ]
    },
    {
     "name": "stderr",
     "output_type": "stream",
     "text": [
      "[Parallel(n_jobs=1)]: Done   4 out of   4 | elapsed:    4.6s remaining:    0.0s\n"
     ]
    },
    {
     "name": "stdout",
     "output_type": "stream",
     "text": [
      "[CV]  n_estimators=400, max_depth=12, criterion=entropy, score=0.870, total=   0.7s\n",
      "[CV] n_estimators=500, max_depth=12, criterion=entropy ...............\n"
     ]
    },
    {
     "name": "stderr",
     "output_type": "stream",
     "text": [
      "[Parallel(n_jobs=1)]: Done   5 out of   5 | elapsed:    5.4s remaining:    0.0s\n"
     ]
    },
    {
     "name": "stdout",
     "output_type": "stream",
     "text": [
      "[CV]  n_estimators=500, max_depth=12, criterion=entropy, score=0.880, total=   0.8s\n",
      "[CV] n_estimators=500, max_depth=12, criterion=entropy ...............\n"
     ]
    },
    {
     "name": "stderr",
     "output_type": "stream",
     "text": [
      "[Parallel(n_jobs=1)]: Done   6 out of   6 | elapsed:    6.2s remaining:    0.0s\n"
     ]
    },
    {
     "name": "stdout",
     "output_type": "stream",
     "text": [
      "[CV]  n_estimators=500, max_depth=12, criterion=entropy, score=0.882, total=   0.8s\n",
      "[CV] n_estimators=500, max_depth=12, criterion=entropy ...............\n"
     ]
    },
    {
     "name": "stderr",
     "output_type": "stream",
     "text": [
      "[Parallel(n_jobs=1)]: Done   7 out of   7 | elapsed:    7.0s remaining:    0.0s\n"
     ]
    },
    {
     "name": "stdout",
     "output_type": "stream",
     "text": [
      "[CV]  n_estimators=500, max_depth=12, criterion=entropy, score=0.910, total=   0.8s\n",
      "[CV] n_estimators=500, max_depth=12, criterion=entropy ...............\n"
     ]
    },
    {
     "name": "stderr",
     "output_type": "stream",
     "text": [
      "[Parallel(n_jobs=1)]: Done   8 out of   8 | elapsed:    7.9s remaining:    0.0s\n"
     ]
    },
    {
     "name": "stdout",
     "output_type": "stream",
     "text": [
      "[CV]  n_estimators=500, max_depth=12, criterion=entropy, score=0.873, total=   0.8s\n",
      "[CV] n_estimators=500, max_depth=12, criterion=entropy ...............\n"
     ]
    },
    {
     "name": "stderr",
     "output_type": "stream",
     "text": [
      "[Parallel(n_jobs=1)]: Done   9 out of   9 | elapsed:    8.7s remaining:    0.0s\n"
     ]
    },
    {
     "name": "stdout",
     "output_type": "stream",
     "text": [
      "[CV]  n_estimators=500, max_depth=12, criterion=entropy, score=0.870, total=   0.8s\n",
      "[CV] n_estimators=1200, max_depth=9, criterion=entropy ...............\n",
      "[CV]  n_estimators=1200, max_depth=9, criterion=entropy, score=0.880, total=   1.8s\n",
      "[CV] n_estimators=1200, max_depth=9, criterion=entropy ...............\n",
      "[CV]  n_estimators=1200, max_depth=9, criterion=entropy, score=0.895, total=   1.8s\n",
      "[CV] n_estimators=1200, max_depth=9, criterion=entropy ...............\n",
      "[CV]  n_estimators=1200, max_depth=9, criterion=entropy, score=0.912, total=   1.8s\n",
      "[CV] n_estimators=1200, max_depth=9, criterion=entropy ...............\n",
      "[CV]  n_estimators=1200, max_depth=9, criterion=entropy, score=0.855, total=   1.9s\n",
      "[CV] n_estimators=1200, max_depth=9, criterion=entropy ...............\n",
      "[CV]  n_estimators=1200, max_depth=9, criterion=entropy, score=0.870, total=   1.8s\n",
      "[CV] n_estimators=400, max_depth=10, criterion=entropy ...............\n",
      "[CV]  n_estimators=400, max_depth=10, criterion=entropy, score=0.885, total=   0.7s\n",
      "[CV] n_estimators=400, max_depth=10, criterion=entropy ...............\n",
      "[CV]  n_estimators=400, max_depth=10, criterion=entropy, score=0.895, total=   0.7s\n",
      "[CV] n_estimators=400, max_depth=10, criterion=entropy ...............\n",
      "[CV]  n_estimators=400, max_depth=10, criterion=entropy, score=0.912, total=   0.7s\n",
      "[CV] n_estimators=400, max_depth=10, criterion=entropy ...............\n",
      "[CV]  n_estimators=400, max_depth=10, criterion=entropy, score=0.870, total=   0.7s\n",
      "[CV] n_estimators=400, max_depth=10, criterion=entropy ...............\n",
      "[CV]  n_estimators=400, max_depth=10, criterion=entropy, score=0.875, total=   0.7s\n",
      "[CV] n_estimators=200, max_depth=1, criterion=gini ...................\n",
      "[CV]  n_estimators=200, max_depth=1, criterion=gini, score=0.583, total=   0.3s\n",
      "[CV] n_estimators=200, max_depth=1, criterion=gini ...................\n",
      "[CV]  n_estimators=200, max_depth=1, criterion=gini, score=0.588, total=   0.3s\n",
      "[CV] n_estimators=200, max_depth=1, criterion=gini ...................\n",
      "[CV]  n_estimators=200, max_depth=1, criterion=gini, score=0.620, total=   0.3s\n",
      "[CV] n_estimators=200, max_depth=1, criterion=gini ...................\n",
      "[CV]  n_estimators=200, max_depth=1, criterion=gini, score=0.600, total=   0.3s\n",
      "[CV] n_estimators=200, max_depth=1, criterion=gini ...................\n",
      "[CV]  n_estimators=200, max_depth=1, criterion=gini, score=0.557, total=   0.3s\n",
      "[CV] n_estimators=700, max_depth=1, criterion=entropy ................\n",
      "[CV]  n_estimators=700, max_depth=1, criterion=entropy, score=0.585, total=   0.8s\n",
      "[CV] n_estimators=700, max_depth=1, criterion=entropy ................\n",
      "[CV]  n_estimators=700, max_depth=1, criterion=entropy, score=0.565, total=   0.9s\n",
      "[CV] n_estimators=700, max_depth=1, criterion=entropy ................\n",
      "[CV]  n_estimators=700, max_depth=1, criterion=entropy, score=0.565, total=   0.9s\n",
      "[CV] n_estimators=700, max_depth=1, criterion=entropy ................\n",
      "[CV]  n_estimators=700, max_depth=1, criterion=entropy, score=0.580, total=   0.9s\n",
      "[CV] n_estimators=700, max_depth=1, criterion=entropy ................\n",
      "[CV]  n_estimators=700, max_depth=1, criterion=entropy, score=0.555, total=   0.8s\n",
      "[CV] n_estimators=100, max_depth=1, criterion=entropy ................\n",
      "[CV]  n_estimators=100, max_depth=1, criterion=entropy, score=0.590, total=   0.2s\n",
      "[CV] n_estimators=100, max_depth=1, criterion=entropy ................\n",
      "[CV]  n_estimators=100, max_depth=1, criterion=entropy, score=0.557, total=   0.2s\n",
      "[CV] n_estimators=100, max_depth=1, criterion=entropy ................\n",
      "[CV]  n_estimators=100, max_depth=1, criterion=entropy, score=0.573, total=   0.2s\n",
      "[CV] n_estimators=100, max_depth=1, criterion=entropy ................\n",
      "[CV]  n_estimators=100, max_depth=1, criterion=entropy, score=0.552, total=   0.2s\n",
      "[CV] n_estimators=100, max_depth=1, criterion=entropy ................\n",
      "[CV]  n_estimators=100, max_depth=1, criterion=entropy, score=0.560, total=   0.2s\n",
      "[CV] n_estimators=1300, max_depth=5, criterion=entropy ...............\n",
      "[CV]  n_estimators=1300, max_depth=5, criterion=entropy, score=0.838, total=   1.7s\n",
      "[CV] n_estimators=1300, max_depth=5, criterion=entropy ...............\n",
      "[CV]  n_estimators=1300, max_depth=5, criterion=entropy, score=0.840, total=   1.7s\n",
      "[CV] n_estimators=1300, max_depth=5, criterion=entropy ...............\n",
      "[CV]  n_estimators=1300, max_depth=5, criterion=entropy, score=0.865, total=   1.6s\n",
      "[CV] n_estimators=1300, max_depth=5, criterion=entropy ...............\n",
      "[CV]  n_estimators=1300, max_depth=5, criterion=entropy, score=0.843, total=   1.6s\n",
      "[CV] n_estimators=1300, max_depth=5, criterion=entropy ...............\n",
      "[CV]  n_estimators=1300, max_depth=5, criterion=entropy, score=0.853, total=   1.6s\n",
      "[CV] n_estimators=500, max_depth=7, criterion=entropy ................\n",
      "[CV]  n_estimators=500, max_depth=7, criterion=entropy, score=0.873, total=   0.7s\n",
      "[CV] n_estimators=500, max_depth=7, criterion=entropy ................\n",
      "[CV]  n_estimators=500, max_depth=7, criterion=entropy, score=0.882, total=   0.7s\n",
      "[CV] n_estimators=500, max_depth=7, criterion=entropy ................\n",
      "[CV]  n_estimators=500, max_depth=7, criterion=entropy, score=0.887, total=   0.7s\n",
      "[CV] n_estimators=500, max_depth=7, criterion=entropy ................\n",
      "[CV]  n_estimators=500, max_depth=7, criterion=entropy, score=0.855, total=   0.7s\n",
      "[CV] n_estimators=500, max_depth=7, criterion=entropy ................\n",
      "[CV]  n_estimators=500, max_depth=7, criterion=entropy, score=0.858, total=   0.8s\n",
      "[CV] n_estimators=1300, max_depth=13, criterion=gini .................\n",
      "[CV]  n_estimators=1300, max_depth=13, criterion=gini, score=0.877, total=   1.7s\n",
      "[CV] n_estimators=1300, max_depth=13, criterion=gini .................\n",
      "[CV]  n_estimators=1300, max_depth=13, criterion=gini, score=0.892, total=   1.7s\n",
      "[CV] n_estimators=1300, max_depth=13, criterion=gini .................\n",
      "[CV]  n_estimators=1300, max_depth=13, criterion=gini, score=0.897, total=   1.8s\n",
      "[CV] n_estimators=1300, max_depth=13, criterion=gini .................\n",
      "[CV]  n_estimators=1300, max_depth=13, criterion=gini, score=0.870, total=   1.8s\n",
      "[CV] n_estimators=1300, max_depth=13, criterion=gini .................\n",
      "[CV]  n_estimators=1300, max_depth=13, criterion=gini, score=0.868, total=   1.8s\n",
      "[CV] n_estimators=1400, max_depth=8, criterion=gini ..................\n",
      "[CV]  n_estimators=1400, max_depth=8, criterion=gini, score=0.873, total=   1.8s\n",
      "[CV] n_estimators=1400, max_depth=8, criterion=gini ..................\n",
      "[CV]  n_estimators=1400, max_depth=8, criterion=gini, score=0.877, total=   1.9s\n",
      "[CV] n_estimators=1400, max_depth=8, criterion=gini ..................\n",
      "[CV]  n_estimators=1400, max_depth=8, criterion=gini, score=0.887, total=   1.8s\n",
      "[CV] n_estimators=1400, max_depth=8, criterion=gini ..................\n",
      "[CV]  n_estimators=1400, max_depth=8, criterion=gini, score=0.865, total=   1.7s\n",
      "[CV] n_estimators=1400, max_depth=8, criterion=gini ..................\n",
      "[CV]  n_estimators=1400, max_depth=8, criterion=gini, score=0.848, total=   1.7s\n",
      "[CV] n_estimators=500, max_depth=18, criterion=entropy ...............\n",
      "[CV]  n_estimators=500, max_depth=18, criterion=entropy, score=0.880, total=   0.8s\n",
      "[CV] n_estimators=500, max_depth=18, criterion=entropy ...............\n",
      "[CV]  n_estimators=500, max_depth=18, criterion=entropy, score=0.887, total=   0.8s\n",
      "[CV] n_estimators=500, max_depth=18, criterion=entropy ...............\n",
      "[CV]  n_estimators=500, max_depth=18, criterion=entropy, score=0.902, total=   0.9s\n",
      "[CV] n_estimators=500, max_depth=18, criterion=entropy ...............\n",
      "[CV]  n_estimators=500, max_depth=18, criterion=entropy, score=0.875, total=   0.9s\n",
      "[CV] n_estimators=500, max_depth=18, criterion=entropy ...............\n",
      "[CV]  n_estimators=500, max_depth=18, criterion=entropy, score=0.877, total=   0.9s\n",
      "[CV] n_estimators=1200, max_depth=15, criterion=gini .................\n",
      "[CV]  n_estimators=1200, max_depth=15, criterion=gini, score=0.887, total=   1.9s\n",
      "[CV] n_estimators=1200, max_depth=15, criterion=gini .................\n",
      "[CV]  n_estimators=1200, max_depth=15, criterion=gini, score=0.890, total=   1.7s\n",
      "[CV] n_estimators=1200, max_depth=15, criterion=gini .................\n",
      "[CV]  n_estimators=1200, max_depth=15, criterion=gini, score=0.897, total=   1.7s\n",
      "[CV] n_estimators=1200, max_depth=15, criterion=gini .................\n"
     ]
    },
    {
     "name": "stdout",
     "output_type": "stream",
     "text": [
      "[CV]  n_estimators=1200, max_depth=15, criterion=gini, score=0.868, total=   1.8s\n",
      "[CV] n_estimators=1200, max_depth=15, criterion=gini .................\n",
      "[CV]  n_estimators=1200, max_depth=15, criterion=gini, score=0.870, total=   1.8s\n",
      "[CV] n_estimators=600, max_depth=18, criterion=gini ..................\n",
      "[CV]  n_estimators=600, max_depth=18, criterion=gini, score=0.870, total=   1.0s\n",
      "[CV] n_estimators=600, max_depth=18, criterion=gini ..................\n",
      "[CV]  n_estimators=600, max_depth=18, criterion=gini, score=0.885, total=   0.9s\n",
      "[CV] n_estimators=600, max_depth=18, criterion=gini ..................\n",
      "[CV]  n_estimators=600, max_depth=18, criterion=gini, score=0.897, total=   0.9s\n",
      "[CV] n_estimators=600, max_depth=18, criterion=gini ..................\n",
      "[CV]  n_estimators=600, max_depth=18, criterion=gini, score=0.877, total=   0.9s\n",
      "[CV] n_estimators=600, max_depth=18, criterion=gini ..................\n",
      "[CV]  n_estimators=600, max_depth=18, criterion=gini, score=0.873, total=   1.0s\n",
      "[CV] n_estimators=100, max_depth=13, criterion=gini ..................\n",
      "[CV]  n_estimators=100, max_depth=13, criterion=gini, score=0.870, total=   0.2s\n",
      "[CV] n_estimators=100, max_depth=13, criterion=gini ..................\n",
      "[CV]  n_estimators=100, max_depth=13, criterion=gini, score=0.877, total=   0.2s\n",
      "[CV] n_estimators=100, max_depth=13, criterion=gini ..................\n",
      "[CV]  n_estimators=100, max_depth=13, criterion=gini, score=0.895, total=   0.2s\n",
      "[CV] n_estimators=100, max_depth=13, criterion=gini ..................\n",
      "[CV]  n_estimators=100, max_depth=13, criterion=gini, score=0.875, total=   0.2s\n",
      "[CV] n_estimators=100, max_depth=13, criterion=gini ..................\n",
      "[CV]  n_estimators=100, max_depth=13, criterion=gini, score=0.868, total=   0.2s\n"
     ]
    },
    {
     "name": "stderr",
     "output_type": "stream",
     "text": [
      "[Parallel(n_jobs=1)]: Done  75 out of  75 | elapsed:  1.3min finished\n"
     ]
    },
    {
     "data": {
      "text/plain": [
       "RandomizedSearchCV(cv=5, estimator=RandomForestClassifier(n_jobs=-1), n_iter=15,\n",
       "                   n_jobs=1,\n",
       "                   param_distributions={'criterion': ['gini', 'entropy'],\n",
       "                                        'max_depth': array([ 1,  2,  3,  4,  5,  6,  7,  8,  9, 10, 11, 12, 13, 14, 15, 16, 17,\n",
       "       18, 19]),\n",
       "                                        'n_estimators': array([ 100,  200,  300,  400,  500,  600,  700,  800,  900, 1000, 1100,\n",
       "       1200, 1300, 1400])},\n",
       "                   scoring='accuracy', verbose=10)"
      ]
     },
     "execution_count": 18,
     "metadata": {},
     "output_type": "execute_result"
    }
   ],
   "source": [
    "model.fit(X,y)"
   ]
  },
  {
   "cell_type": "code",
   "execution_count": 19,
   "metadata": {},
   "outputs": [
    {
     "data": {
      "text/plain": [
       "0.8875"
      ]
     },
     "execution_count": 19,
     "metadata": {},
     "output_type": "execute_result"
    }
   ],
   "source": [
    "model.best_score_"
   ]
  },
  {
   "cell_type": "code",
   "execution_count": 20,
   "metadata": {},
   "outputs": [
    {
     "data": {
      "text/plain": [
       "RandomForestClassifier(criterion='entropy', max_depth=10, n_estimators=400,\n",
       "                       n_jobs=-1)"
      ]
     },
     "execution_count": 20,
     "metadata": {},
     "output_type": "execute_result"
    }
   ],
   "source": [
    "model.best_estimator_"
   ]
  },
  {
   "cell_type": "markdown",
   "metadata": {},
   "source": [
    "### Pipe Line Random Search"
   ]
  },
  {
   "cell_type": "code",
   "execution_count": 25,
   "metadata": {},
   "outputs": [
    {
     "name": "stdout",
     "output_type": "stream",
     "text": [
      "Fitting 5 folds for each of 15 candidates, totalling 75 fits\n",
      "[CV] rf__n_estimators=300, rf__max_depth=1, rf__criterion=entropy, pca__n_components=8 \n"
     ]
    },
    {
     "name": "stderr",
     "output_type": "stream",
     "text": [
      "[Parallel(n_jobs=1)]: Using backend SequentialBackend with 1 concurrent workers.\n"
     ]
    },
    {
     "name": "stdout",
     "output_type": "stream",
     "text": [
      "[CV]  rf__n_estimators=300, rf__max_depth=1, rf__criterion=entropy, pca__n_components=8, score=0.400, total=   3.8s\n",
      "[CV] rf__n_estimators=300, rf__max_depth=1, rf__criterion=entropy, pca__n_components=8 \n"
     ]
    },
    {
     "name": "stderr",
     "output_type": "stream",
     "text": [
      "[Parallel(n_jobs=1)]: Done   1 out of   1 | elapsed:    3.7s remaining:    0.0s\n"
     ]
    },
    {
     "name": "stdout",
     "output_type": "stream",
     "text": [
      "[CV]  rf__n_estimators=300, rf__max_depth=1, rf__criterion=entropy, pca__n_components=8, score=0.410, total=   0.5s\n",
      "[CV] rf__n_estimators=300, rf__max_depth=1, rf__criterion=entropy, pca__n_components=8 \n"
     ]
    },
    {
     "name": "stderr",
     "output_type": "stream",
     "text": [
      "[Parallel(n_jobs=1)]: Done   2 out of   2 | elapsed:    4.2s remaining:    0.0s\n"
     ]
    },
    {
     "name": "stdout",
     "output_type": "stream",
     "text": [
      "[CV]  rf__n_estimators=300, rf__max_depth=1, rf__criterion=entropy, pca__n_components=8, score=0.372, total=   0.4s\n",
      "[CV] rf__n_estimators=300, rf__max_depth=1, rf__criterion=entropy, pca__n_components=8 \n"
     ]
    },
    {
     "name": "stderr",
     "output_type": "stream",
     "text": [
      "[Parallel(n_jobs=1)]: Done   3 out of   3 | elapsed:    4.6s remaining:    0.0s\n"
     ]
    },
    {
     "name": "stdout",
     "output_type": "stream",
     "text": [
      "[CV]  rf__n_estimators=300, rf__max_depth=1, rf__criterion=entropy, pca__n_components=8, score=0.405, total=   0.4s\n",
      "[CV] rf__n_estimators=300, rf__max_depth=1, rf__criterion=entropy, pca__n_components=8 \n"
     ]
    },
    {
     "name": "stderr",
     "output_type": "stream",
     "text": [
      "[Parallel(n_jobs=1)]: Done   4 out of   4 | elapsed:    5.1s remaining:    0.0s\n"
     ]
    },
    {
     "name": "stdout",
     "output_type": "stream",
     "text": [
      "[CV]  rf__n_estimators=300, rf__max_depth=1, rf__criterion=entropy, pca__n_components=8, score=0.417, total=   0.4s\n",
      "[CV] rf__n_estimators=1400, rf__max_depth=11, rf__criterion=gini, pca__n_components=6 \n"
     ]
    },
    {
     "name": "stderr",
     "output_type": "stream",
     "text": [
      "[Parallel(n_jobs=1)]: Done   5 out of   5 | elapsed:    5.5s remaining:    0.0s\n"
     ]
    },
    {
     "name": "stdout",
     "output_type": "stream",
     "text": [
      "[CV]  rf__n_estimators=1400, rf__max_depth=11, rf__criterion=gini, pca__n_components=6, score=0.385, total=   2.0s\n",
      "[CV] rf__n_estimators=1400, rf__max_depth=11, rf__criterion=gini, pca__n_components=6 \n"
     ]
    },
    {
     "name": "stderr",
     "output_type": "stream",
     "text": [
      "[Parallel(n_jobs=1)]: Done   6 out of   6 | elapsed:    7.5s remaining:    0.0s\n"
     ]
    },
    {
     "name": "stdout",
     "output_type": "stream",
     "text": [
      "[CV]  rf__n_estimators=1400, rf__max_depth=11, rf__criterion=gini, pca__n_components=6, score=0.398, total=   2.3s\n",
      "[CV] rf__n_estimators=1400, rf__max_depth=11, rf__criterion=gini, pca__n_components=6 \n"
     ]
    },
    {
     "name": "stderr",
     "output_type": "stream",
     "text": [
      "[Parallel(n_jobs=1)]: Done   7 out of   7 | elapsed:    9.7s remaining:    0.0s\n"
     ]
    },
    {
     "name": "stdout",
     "output_type": "stream",
     "text": [
      "[CV]  rf__n_estimators=1400, rf__max_depth=11, rf__criterion=gini, pca__n_components=6, score=0.355, total=   2.2s\n",
      "[CV] rf__n_estimators=1400, rf__max_depth=11, rf__criterion=gini, pca__n_components=6 \n"
     ]
    },
    {
     "name": "stderr",
     "output_type": "stream",
     "text": [
      "[Parallel(n_jobs=1)]: Done   8 out of   8 | elapsed:   11.9s remaining:    0.0s\n"
     ]
    },
    {
     "name": "stdout",
     "output_type": "stream",
     "text": [
      "[CV]  rf__n_estimators=1400, rf__max_depth=11, rf__criterion=gini, pca__n_components=6, score=0.422, total=   2.0s\n",
      "[CV] rf__n_estimators=1400, rf__max_depth=11, rf__criterion=gini, pca__n_components=6 \n"
     ]
    },
    {
     "name": "stderr",
     "output_type": "stream",
     "text": [
      "[Parallel(n_jobs=1)]: Done   9 out of   9 | elapsed:   14.0s remaining:    0.0s\n"
     ]
    },
    {
     "name": "stdout",
     "output_type": "stream",
     "text": [
      "[CV]  rf__n_estimators=1400, rf__max_depth=11, rf__criterion=gini, pca__n_components=6, score=0.343, total=   1.9s\n",
      "[CV] rf__n_estimators=1400, rf__max_depth=11, rf__criterion=entropy, pca__n_components=9 \n",
      "[CV]  rf__n_estimators=1400, rf__max_depth=11, rf__criterion=entropy, pca__n_components=9, score=0.405, total=   3.2s\n",
      "[CV] rf__n_estimators=1400, rf__max_depth=11, rf__criterion=entropy, pca__n_components=9 \n",
      "[CV]  rf__n_estimators=1400, rf__max_depth=11, rf__criterion=entropy, pca__n_components=9, score=0.472, total=   3.0s\n",
      "[CV] rf__n_estimators=1400, rf__max_depth=11, rf__criterion=entropy, pca__n_components=9 \n",
      "[CV]  rf__n_estimators=1400, rf__max_depth=11, rf__criterion=entropy, pca__n_components=9, score=0.482, total=   2.9s\n",
      "[CV] rf__n_estimators=1400, rf__max_depth=11, rf__criterion=entropy, pca__n_components=9 \n",
      "[CV]  rf__n_estimators=1400, rf__max_depth=11, rf__criterion=entropy, pca__n_components=9, score=0.517, total=   3.1s\n",
      "[CV] rf__n_estimators=1400, rf__max_depth=11, rf__criterion=entropy, pca__n_components=9 \n",
      "[CV]  rf__n_estimators=1400, rf__max_depth=11, rf__criterion=entropy, pca__n_components=9, score=0.417, total=   3.1s\n",
      "[CV] rf__n_estimators=100, rf__max_depth=17, rf__criterion=entropy, pca__n_components=5 \n",
      "[CV]  rf__n_estimators=100, rf__max_depth=17, rf__criterion=entropy, pca__n_components=5, score=0.302, total=   0.3s\n",
      "[CV] rf__n_estimators=100, rf__max_depth=17, rf__criterion=entropy, pca__n_components=5 \n",
      "[CV]  rf__n_estimators=100, rf__max_depth=17, rf__criterion=entropy, pca__n_components=5, score=0.328, total=   0.3s\n",
      "[CV] rf__n_estimators=100, rf__max_depth=17, rf__criterion=entropy, pca__n_components=5 \n",
      "[CV]  rf__n_estimators=100, rf__max_depth=17, rf__criterion=entropy, pca__n_components=5, score=0.282, total=   0.3s\n",
      "[CV] rf__n_estimators=100, rf__max_depth=17, rf__criterion=entropy, pca__n_components=5 \n",
      "[CV]  rf__n_estimators=100, rf__max_depth=17, rf__criterion=entropy, pca__n_components=5, score=0.292, total=   0.3s\n",
      "[CV] rf__n_estimators=100, rf__max_depth=17, rf__criterion=entropy, pca__n_components=5 \n",
      "[CV]  rf__n_estimators=100, rf__max_depth=17, rf__criterion=entropy, pca__n_components=5, score=0.250, total=   0.3s\n",
      "[CV] rf__n_estimators=700, rf__max_depth=13, rf__criterion=gini, pca__n_components=7 \n",
      "[CV]  rf__n_estimators=700, rf__max_depth=13, rf__criterion=gini, pca__n_components=7, score=0.355, total=   1.2s\n",
      "[CV] rf__n_estimators=700, rf__max_depth=13, rf__criterion=gini, pca__n_components=7 \n",
      "[CV]  rf__n_estimators=700, rf__max_depth=13, rf__criterion=gini, pca__n_components=7, score=0.420, total=   1.1s\n",
      "[CV] rf__n_estimators=700, rf__max_depth=13, rf__criterion=gini, pca__n_components=7 \n",
      "[CV]  rf__n_estimators=700, rf__max_depth=13, rf__criterion=gini, pca__n_components=7, score=0.360, total=   1.1s\n",
      "[CV] rf__n_estimators=700, rf__max_depth=13, rf__criterion=gini, pca__n_components=7 \n",
      "[CV]  rf__n_estimators=700, rf__max_depth=13, rf__criterion=gini, pca__n_components=7, score=0.420, total=   1.1s\n",
      "[CV] rf__n_estimators=700, rf__max_depth=13, rf__criterion=gini, pca__n_components=7 \n",
      "[CV]  rf__n_estimators=700, rf__max_depth=13, rf__criterion=gini, pca__n_components=7, score=0.400, total=   1.1s\n",
      "[CV] rf__n_estimators=1200, rf__max_depth=7, rf__criterion=entropy, pca__n_components=7 \n",
      "[CV]  rf__n_estimators=1200, rf__max_depth=7, rf__criterion=entropy, pca__n_components=7, score=0.405, total=   1.9s\n",
      "[CV] rf__n_estimators=1200, rf__max_depth=7, rf__criterion=entropy, pca__n_components=7 \n",
      "[CV]  rf__n_estimators=1200, rf__max_depth=7, rf__criterion=entropy, pca__n_components=7, score=0.455, total=   1.9s\n",
      "[CV] rf__n_estimators=1200, rf__max_depth=7, rf__criterion=entropy, pca__n_components=7 \n",
      "[CV]  rf__n_estimators=1200, rf__max_depth=7, rf__criterion=entropy, pca__n_components=7, score=0.385, total=   2.0s\n",
      "[CV] rf__n_estimators=1200, rf__max_depth=7, rf__criterion=entropy, pca__n_components=7 \n",
      "[CV]  rf__n_estimators=1200, rf__max_depth=7, rf__criterion=entropy, pca__n_components=7, score=0.420, total=   2.0s\n",
      "[CV] rf__n_estimators=1200, rf__max_depth=7, rf__criterion=entropy, pca__n_components=7 \n",
      "[CV]  rf__n_estimators=1200, rf__max_depth=7, rf__criterion=entropy, pca__n_components=7, score=0.422, total=   1.9s\n",
      "[CV] rf__n_estimators=100, rf__max_depth=12, rf__criterion=gini, pca__n_components=7 \n",
      "[CV]  rf__n_estimators=100, rf__max_depth=12, rf__criterion=gini, pca__n_components=7, score=0.372, total=   0.2s\n",
      "[CV] rf__n_estimators=100, rf__max_depth=12, rf__criterion=gini, pca__n_components=7 \n",
      "[CV]  rf__n_estimators=100, rf__max_depth=12, rf__criterion=gini, pca__n_components=7, score=0.388, total=   0.2s\n",
      "[CV] rf__n_estimators=100, rf__max_depth=12, rf__criterion=gini, pca__n_components=7 \n",
      "[CV]  rf__n_estimators=100, rf__max_depth=12, rf__criterion=gini, pca__n_components=7, score=0.355, total=   0.2s\n",
      "[CV] rf__n_estimators=100, rf__max_depth=12, rf__criterion=gini, pca__n_components=7 \n",
      "[CV]  rf__n_estimators=100, rf__max_depth=12, rf__criterion=gini, pca__n_components=7, score=0.415, total=   0.2s\n",
      "[CV] rf__n_estimators=100, rf__max_depth=12, rf__criterion=gini, pca__n_components=7 \n",
      "[CV]  rf__n_estimators=100, rf__max_depth=12, rf__criterion=gini, pca__n_components=7, score=0.412, total=   0.2s\n",
      "[CV] rf__n_estimators=1100, rf__max_depth=2, rf__criterion=gini, pca__n_components=5 \n",
      "[CV]  rf__n_estimators=1100, rf__max_depth=2, rf__criterion=gini, pca__n_components=5, score=0.357, total=   1.3s\n",
      "[CV] rf__n_estimators=1100, rf__max_depth=2, rf__criterion=gini, pca__n_components=5 \n",
      "[CV]  rf__n_estimators=1100, rf__max_depth=2, rf__criterion=gini, pca__n_components=5, score=0.370, total=   1.2s\n",
      "[CV] rf__n_estimators=1100, rf__max_depth=2, rf__criterion=gini, pca__n_components=5 \n",
      "[CV]  rf__n_estimators=1100, rf__max_depth=2, rf__criterion=gini, pca__n_components=5, score=0.315, total=   1.2s\n",
      "[CV] rf__n_estimators=1100, rf__max_depth=2, rf__criterion=gini, pca__n_components=5 \n",
      "[CV]  rf__n_estimators=1100, rf__max_depth=2, rf__criterion=gini, pca__n_components=5, score=0.357, total=   1.3s\n",
      "[CV] rf__n_estimators=1100, rf__max_depth=2, rf__criterion=gini, pca__n_components=5 \n",
      "[CV]  rf__n_estimators=1100, rf__max_depth=2, rf__criterion=gini, pca__n_components=5, score=0.295, total=   1.2s\n",
      "[CV] rf__n_estimators=500, rf__max_depth=5, rf__criterion=gini, pca__n_components=9 \n",
      "[CV]  rf__n_estimators=500, rf__max_depth=5, rf__criterion=gini, pca__n_components=9, score=0.420, total=   0.6s\n",
      "[CV] rf__n_estimators=500, rf__max_depth=5, rf__criterion=gini, pca__n_components=9 \n",
      "[CV]  rf__n_estimators=500, rf__max_depth=5, rf__criterion=gini, pca__n_components=9, score=0.472, total=   0.7s\n",
      "[CV] rf__n_estimators=500, rf__max_depth=5, rf__criterion=gini, pca__n_components=9 \n",
      "[CV]  rf__n_estimators=500, rf__max_depth=5, rf__criterion=gini, pca__n_components=9, score=0.490, total=   0.6s\n",
      "[CV] rf__n_estimators=500, rf__max_depth=5, rf__criterion=gini, pca__n_components=9 \n",
      "[CV]  rf__n_estimators=500, rf__max_depth=5, rf__criterion=gini, pca__n_components=9, score=0.507, total=   0.7s\n",
      "[CV] rf__n_estimators=500, rf__max_depth=5, rf__criterion=gini, pca__n_components=9 \n",
      "[CV]  rf__n_estimators=500, rf__max_depth=5, rf__criterion=gini, pca__n_components=9, score=0.427, total=   0.6s\n",
      "[CV] rf__n_estimators=600, rf__max_depth=7, rf__criterion=entropy, pca__n_components=9 \n",
      "[CV]  rf__n_estimators=600, rf__max_depth=7, rf__criterion=entropy, pca__n_components=9, score=0.403, total=   1.2s\n",
      "[CV] rf__n_estimators=600, rf__max_depth=7, rf__criterion=entropy, pca__n_components=9 \n",
      "[CV]  rf__n_estimators=600, rf__max_depth=7, rf__criterion=entropy, pca__n_components=9, score=0.470, total=   1.2s\n",
      "[CV] rf__n_estimators=600, rf__max_depth=7, rf__criterion=entropy, pca__n_components=9 \n",
      "[CV]  rf__n_estimators=600, rf__max_depth=7, rf__criterion=entropy, pca__n_components=9, score=0.485, total=   1.2s\n",
      "[CV] rf__n_estimators=600, rf__max_depth=7, rf__criterion=entropy, pca__n_components=9 \n",
      "[CV]  rf__n_estimators=600, rf__max_depth=7, rf__criterion=entropy, pca__n_components=9, score=0.490, total=   1.2s\n",
      "[CV] rf__n_estimators=600, rf__max_depth=7, rf__criterion=entropy, pca__n_components=9 \n",
      "[CV]  rf__n_estimators=600, rf__max_depth=7, rf__criterion=entropy, pca__n_components=9, score=0.430, total=   1.2s\n",
      "[CV] rf__n_estimators=100, rf__max_depth=3, rf__criterion=entropy, pca__n_components=9 \n"
     ]
    },
    {
     "name": "stdout",
     "output_type": "stream",
     "text": [
      "[CV]  rf__n_estimators=100, rf__max_depth=3, rf__criterion=entropy, pca__n_components=9, score=0.388, total=   0.2s\n",
      "[CV] rf__n_estimators=100, rf__max_depth=3, rf__criterion=entropy, pca__n_components=9 \n",
      "[CV]  rf__n_estimators=100, rf__max_depth=3, rf__criterion=entropy, pca__n_components=9, score=0.450, total=   0.2s\n",
      "[CV] rf__n_estimators=100, rf__max_depth=3, rf__criterion=entropy, pca__n_components=9 \n",
      "[CV]  rf__n_estimators=100, rf__max_depth=3, rf__criterion=entropy, pca__n_components=9, score=0.455, total=   0.2s\n",
      "[CV] rf__n_estimators=100, rf__max_depth=3, rf__criterion=entropy, pca__n_components=9 \n",
      "[CV]  rf__n_estimators=100, rf__max_depth=3, rf__criterion=entropy, pca__n_components=9, score=0.453, total=   0.2s\n",
      "[CV] rf__n_estimators=100, rf__max_depth=3, rf__criterion=entropy, pca__n_components=9 \n",
      "[CV]  rf__n_estimators=100, rf__max_depth=3, rf__criterion=entropy, pca__n_components=9, score=0.430, total=   0.2s\n",
      "[CV] rf__n_estimators=1000, rf__max_depth=11, rf__criterion=gini, pca__n_components=7 \n",
      "[CV]  rf__n_estimators=1000, rf__max_depth=11, rf__criterion=gini, pca__n_components=7, score=0.395, total=   1.4s\n",
      "[CV] rf__n_estimators=1000, rf__max_depth=11, rf__criterion=gini, pca__n_components=7 \n",
      "[CV]  rf__n_estimators=1000, rf__max_depth=11, rf__criterion=gini, pca__n_components=7, score=0.398, total=   1.4s\n",
      "[CV] rf__n_estimators=1000, rf__max_depth=11, rf__criterion=gini, pca__n_components=7 \n",
      "[CV]  rf__n_estimators=1000, rf__max_depth=11, rf__criterion=gini, pca__n_components=7, score=0.372, total=   1.4s\n",
      "[CV] rf__n_estimators=1000, rf__max_depth=11, rf__criterion=gini, pca__n_components=7 \n",
      "[CV]  rf__n_estimators=1000, rf__max_depth=11, rf__criterion=gini, pca__n_components=7, score=0.435, total=   1.4s\n",
      "[CV] rf__n_estimators=1000, rf__max_depth=11, rf__criterion=gini, pca__n_components=7 \n",
      "[CV]  rf__n_estimators=1000, rf__max_depth=11, rf__criterion=gini, pca__n_components=7, score=0.417, total=   1.4s\n",
      "[CV] rf__n_estimators=700, rf__max_depth=14, rf__criterion=entropy, pca__n_components=6 \n",
      "[CV]  rf__n_estimators=700, rf__max_depth=14, rf__criterion=entropy, pca__n_components=6, score=0.375, total=   1.4s\n",
      "[CV] rf__n_estimators=700, rf__max_depth=14, rf__criterion=entropy, pca__n_components=6 \n",
      "[CV]  rf__n_estimators=700, rf__max_depth=14, rf__criterion=entropy, pca__n_components=6, score=0.415, total=   1.5s\n",
      "[CV] rf__n_estimators=700, rf__max_depth=14, rf__criterion=entropy, pca__n_components=6 \n",
      "[CV]  rf__n_estimators=700, rf__max_depth=14, rf__criterion=entropy, pca__n_components=6, score=0.362, total=   1.5s\n",
      "[CV] rf__n_estimators=700, rf__max_depth=14, rf__criterion=entropy, pca__n_components=6 \n",
      "[CV]  rf__n_estimators=700, rf__max_depth=14, rf__criterion=entropy, pca__n_components=6, score=0.412, total=   1.4s\n",
      "[CV] rf__n_estimators=700, rf__max_depth=14, rf__criterion=entropy, pca__n_components=6 \n",
      "[CV]  rf__n_estimators=700, rf__max_depth=14, rf__criterion=entropy, pca__n_components=6, score=0.305, total=   1.5s\n",
      "[CV] rf__n_estimators=300, rf__max_depth=8, rf__criterion=gini, pca__n_components=9 \n",
      "[CV]  rf__n_estimators=300, rf__max_depth=8, rf__criterion=gini, pca__n_components=9, score=0.393, total=   0.5s\n",
      "[CV] rf__n_estimators=300, rf__max_depth=8, rf__criterion=gini, pca__n_components=9 \n",
      "[CV]  rf__n_estimators=300, rf__max_depth=8, rf__criterion=gini, pca__n_components=9, score=0.468, total=   0.5s\n",
      "[CV] rf__n_estimators=300, rf__max_depth=8, rf__criterion=gini, pca__n_components=9 \n",
      "[CV]  rf__n_estimators=300, rf__max_depth=8, rf__criterion=gini, pca__n_components=9, score=0.487, total=   0.5s\n",
      "[CV] rf__n_estimators=300, rf__max_depth=8, rf__criterion=gini, pca__n_components=9 \n",
      "[CV]  rf__n_estimators=300, rf__max_depth=8, rf__criterion=gini, pca__n_components=9, score=0.500, total=   0.5s\n",
      "[CV] rf__n_estimators=300, rf__max_depth=8, rf__criterion=gini, pca__n_components=9 \n",
      "[CV]  rf__n_estimators=300, rf__max_depth=8, rf__criterion=gini, pca__n_components=9, score=0.445, total=   0.5s\n",
      "[CV] rf__n_estimators=1100, rf__max_depth=16, rf__criterion=gini, pca__n_components=6 \n",
      "[CV]  rf__n_estimators=1100, rf__max_depth=16, rf__criterion=gini, pca__n_components=6, score=0.380, total=   1.7s\n",
      "[CV] rf__n_estimators=1100, rf__max_depth=16, rf__criterion=gini, pca__n_components=6 \n",
      "[CV]  rf__n_estimators=1100, rf__max_depth=16, rf__criterion=gini, pca__n_components=6, score=0.415, total=   1.7s\n",
      "[CV] rf__n_estimators=1100, rf__max_depth=16, rf__criterion=gini, pca__n_components=6 \n",
      "[CV]  rf__n_estimators=1100, rf__max_depth=16, rf__criterion=gini, pca__n_components=6, score=0.362, total=   1.8s\n",
      "[CV] rf__n_estimators=1100, rf__max_depth=16, rf__criterion=gini, pca__n_components=6 \n",
      "[CV]  rf__n_estimators=1100, rf__max_depth=16, rf__criterion=gini, pca__n_components=6, score=0.407, total=   1.7s\n",
      "[CV] rf__n_estimators=1100, rf__max_depth=16, rf__criterion=gini, pca__n_components=6 \n",
      "[CV]  rf__n_estimators=1100, rf__max_depth=16, rf__criterion=gini, pca__n_components=6, score=0.335, total=   1.7s\n"
     ]
    },
    {
     "name": "stderr",
     "output_type": "stream",
     "text": [
      "[Parallel(n_jobs=1)]: Done  75 out of  75 | elapsed:  1.5min finished\n"
     ]
    },
    {
     "data": {
      "text/plain": [
       "RandomizedSearchCV(cv=5,\n",
       "                   estimator=Pipeline(steps=[('scaling', StandardScaler()),\n",
       "                                             ('pca', PCA()),\n",
       "                                             ('rf',\n",
       "                                              RandomForestClassifier(n_jobs=-1))]),\n",
       "                   n_iter=15, n_jobs=1,\n",
       "                   param_distributions={'pca__n_components': array([5, 6, 7, 8, 9]),\n",
       "                                        'rf__criterion': ['gini', 'entropy'],\n",
       "                                        'rf__max_depth': array([ 1,  2,  3,  4,  5,  6,  7,  8,  9, 10, 11, 12, 13, 14, 15, 16, 17,\n",
       "       18, 19]),\n",
       "                                        'rf__n_estimators': array([ 100,  200,  300,  400,  500,  600,  700,  800,  900, 1000, 1100,\n",
       "       1200, 1300, 1400])},\n",
       "                   scoring='accuracy', verbose=10)"
      ]
     },
     "execution_count": 25,
     "metadata": {},
     "output_type": "execute_result"
    }
   ],
   "source": [
    "scl = preprocessing.StandardScaler()\n",
    "pca = decomposition.PCA()\n",
    "rf = RandomForestClassifier(n_jobs = -1)\n",
    "\n",
    "classifier = pipeline.Pipeline([('scaling',scl),('pca',pca),('rf',rf)])\n",
    "\n",
    "param_grid = {\n",
    "    \"pca__n_components\": np.arange(5,10),\n",
    "    \"rf__n_estimators\":np.arange(100,1500,100),\n",
    "    \"rf__max_depth\":np.arange(1,20),\n",
    "    \"rf__criterion\":['gini','entropy']    \n",
    "}\n",
    "model = model_selection.RandomizedSearchCV(\n",
    "    estimator = classifier,\n",
    "    param_distributions = param_grid,\n",
    "    scoring = 'accuracy',\n",
    "    verbose = 10,\n",
    "    n_jobs = 1,\n",
    "    cv = 5,\n",
    "    n_iter=15\n",
    ")\n",
    "model.fit(X,y)"
   ]
  },
  {
   "cell_type": "code",
   "execution_count": 26,
   "metadata": {},
   "outputs": [
    {
     "data": {
      "text/plain": [
       "0.46349999999999997"
      ]
     },
     "execution_count": 26,
     "metadata": {},
     "output_type": "execute_result"
    }
   ],
   "source": [
    "model.best_score_"
   ]
  },
  {
   "cell_type": "code",
   "execution_count": 27,
   "metadata": {},
   "outputs": [
    {
     "data": {
      "text/plain": [
       "Pipeline(steps=[('scaling', StandardScaler()), ('pca', PCA(n_components=9)),\n",
       "                ('rf',\n",
       "                 RandomForestClassifier(max_depth=5, n_estimators=500,\n",
       "                                        n_jobs=-1))])"
      ]
     },
     "execution_count": 27,
     "metadata": {},
     "output_type": "execute_result"
    }
   ],
   "source": [
    "model.best_estimator_"
   ]
  },
  {
   "cell_type": "markdown",
   "metadata": {},
   "source": [
    "### Baysian Optimization"
   ]
  },
  {
   "cell_type": "code",
   "execution_count": 71,
   "metadata": {},
   "outputs": [],
   "source": [
    "from functools import partial\n",
    "from skopt import space\n",
    "from skopt import gp_minimize"
   ]
  },
  {
   "cell_type": "code",
   "execution_count": 74,
   "metadata": {},
   "outputs": [],
   "source": [
    "df = pd.read_csv('train.csv')\n",
    "X = df.drop('price_range', axis=1).values\n",
    "y = df.price_range.values"
   ]
  },
  {
   "cell_type": "code",
   "execution_count": 79,
   "metadata": {},
   "outputs": [
    {
     "name": "stdout",
     "output_type": "stream",
     "text": [
      "Iteration No: 1 started. Evaluating function at random point.\n",
      "Iteration No: 1 ended. Evaluation done at random point.\n",
      "Time taken: 11.2496\n",
      "Function value obtained: -0.8805\n",
      "Current minimum: -0.8805\n",
      "Iteration No: 2 started. Evaluating function at random point.\n",
      "Iteration No: 2 ended. Evaluation done at random point.\n",
      "Time taken: 12.7753\n",
      "Function value obtained: -0.9055\n",
      "Current minimum: -0.9055\n",
      "Iteration No: 3 started. Evaluating function at random point.\n",
      "Iteration No: 3 ended. Evaluation done at random point.\n",
      "Time taken: 5.9965\n",
      "Function value obtained: -0.7760\n",
      "Current minimum: -0.9055\n",
      "Iteration No: 4 started. Evaluating function at random point.\n",
      "Iteration No: 4 ended. Evaluation done at random point.\n",
      "Time taken: 4.5136\n",
      "Function value obtained: -0.8640\n",
      "Current minimum: -0.9055\n",
      "Iteration No: 5 started. Evaluating function at random point.\n",
      "Iteration No: 5 ended. Evaluation done at random point.\n",
      "Time taken: 14.2341\n",
      "Function value obtained: -0.9010\n",
      "Current minimum: -0.9055\n",
      "Iteration No: 6 started. Evaluating function at random point.\n",
      "Iteration No: 6 ended. Evaluation done at random point.\n",
      "Time taken: 4.0273\n",
      "Function value obtained: -0.8975\n",
      "Current minimum: -0.9055\n",
      "Iteration No: 7 started. Evaluating function at random point.\n",
      "Iteration No: 7 ended. Evaluation done at random point.\n",
      "Time taken: 4.2598\n",
      "Function value obtained: -0.8870\n",
      "Current minimum: -0.9055\n",
      "Iteration No: 8 started. Evaluating function at random point.\n",
      "Iteration No: 8 ended. Evaluation done at random point.\n",
      "Time taken: 10.1840\n",
      "Function value obtained: -0.9055\n",
      "Current minimum: -0.9055\n",
      "Iteration No: 9 started. Evaluating function at random point.\n",
      "Iteration No: 9 ended. Evaluation done at random point.\n",
      "Time taken: 2.0741\n",
      "Function value obtained: -0.8720\n",
      "Current minimum: -0.9055\n",
      "Iteration No: 10 started. Evaluating function at random point.\n",
      "Iteration No: 10 ended. Evaluation done at random point.\n",
      "Time taken: 8.5665\n",
      "Function value obtained: -0.8825\n",
      "Current minimum: -0.9055\n",
      "Iteration No: 11 started. Searching for the next optimal point.\n",
      "Iteration No: 11 ended. Search finished for the next optimal point.\n",
      "Time taken: 11.2421\n",
      "Function value obtained: -0.9055\n",
      "Current minimum: -0.9055\n",
      "Iteration No: 12 started. Searching for the next optimal point.\n",
      "Iteration No: 12 ended. Search finished for the next optimal point.\n",
      "Time taken: 4.6641\n",
      "Function value obtained: -0.8620\n",
      "Current minimum: -0.9055\n",
      "Iteration No: 13 started. Searching for the next optimal point.\n",
      "Iteration No: 13 ended. Search finished for the next optimal point.\n",
      "Time taken: 11.4164\n",
      "Function value obtained: -0.9050\n",
      "Current minimum: -0.9055\n",
      "Iteration No: 14 started. Searching for the next optimal point.\n",
      "Iteration No: 14 ended. Search finished for the next optimal point.\n",
      "Time taken: 12.8317\n",
      "Function value obtained: -0.7700\n",
      "Current minimum: -0.9055\n",
      "Iteration No: 15 started. Searching for the next optimal point.\n",
      "Iteration No: 15 ended. Search finished for the next optimal point.\n",
      "Time taken: 10.8291\n",
      "Function value obtained: -0.8755\n",
      "Current minimum: -0.9055\n",
      "{'max_depth': 8, 'n_estimators': 330, 'criterion': 'entropy', 'max_features': 0.893711436426667}\n"
     ]
    }
   ],
   "source": [
    "def optimize(params, param_names, x,y):\n",
    "    params = dict(zip(param_names,params))\n",
    "    model = RandomForestClassifier(**params)\n",
    "    kf = model_selection.StratifiedKFold(n_splits=5)\n",
    "    accuracies = []\n",
    "    for idx in kf.split(X=x,y=y):\n",
    "        train_idx,test_idx = idx[0],idx[1]\n",
    "        xtrain = x[train_idx]\n",
    "        ytrain = y[train_idx]\n",
    "        \n",
    "        xtest = x[test_idx]\n",
    "        ytest = y[test_idx]\n",
    "        \n",
    "        model.fit(xtrain,ytrain)\n",
    "        preds =  model.predict(xtest)\n",
    "        fold_acc = metrics.accuracy_score(ytest,preds)\n",
    "        accuracies.append(fold_acc)\n",
    "    return -1.0 * np.mean(accuracies)\n",
    "    \n",
    "param_space = [\n",
    "    space.Integer(3,15, name = \"max_depth\"),\n",
    "    space.Integer(100,600, name = \"n_estimators\"),\n",
    "    space.Categorical(['gini','entropy'], name= \"criterion\"),\n",
    "    space.Real(0.01,1,prior='uniform', name=\"max_features\")\n",
    "]\n",
    "param_names = [\n",
    "    \"max_depth\",\n",
    "    \"n_estimators\",\n",
    "    \"criterion\",\n",
    "    \"max_features\"\n",
    "]\n",
    "\n",
    "optimization_fuction = partial(optimize, param_names = param_names,x = X, y = y) \n",
    "\n",
    "result = gp_minimize(\n",
    "    optimization_fuction,\n",
    "    dimensions=param_space,\n",
    "    n_calls = 15,\n",
    "    n_random_starts= 10,\n",
    "    verbose= 10\n",
    ")\n",
    "print(dict(zip(param_names,result.x)))"
   ]
  },
  {
   "cell_type": "markdown",
   "metadata": {},
   "source": [
    "### HyperOpt"
   ]
  },
  {
   "cell_type": "code",
   "execution_count": 88,
   "metadata": {},
   "outputs": [],
   "source": [
    "from hyperopt import hp,fmin, tpe, Trials\n",
    "from hyperopt.pyll.base import scope"
   ]
  },
  {
   "cell_type": "code",
   "execution_count": 89,
   "metadata": {},
   "outputs": [
    {
     "name": "stdout",
     "output_type": "stream",
     "text": [
      "100%|███████████████████████████████████████████████| 15/15 [02:07<00:00,  8.51s/trial, best loss: -0.9085000000000001]\n",
      "{'criterion': 1, 'max_depth': 13.0, 'max_features': 0.6011613518620049, 'n_estimators': 174.0}\n"
     ]
    }
   ],
   "source": [
    "def optimize(params, x,y):\n",
    "    model = RandomForestClassifier(**params)\n",
    "    kf = model_selection.StratifiedKFold(n_splits=5)\n",
    "    accuracies = []\n",
    "    for idx in kf.split(X=x,y=y):\n",
    "        train_idx,test_idx = idx[0],idx[1]\n",
    "        xtrain = x[train_idx]\n",
    "        ytrain = y[train_idx]\n",
    "        \n",
    "        xtest = x[test_idx]\n",
    "        ytest = y[test_idx]\n",
    "        \n",
    "        model.fit(xtrain,ytrain)\n",
    "        preds =  model.predict(xtest)\n",
    "        fold_acc = metrics.accuracy_score(ytest,preds)\n",
    "        accuracies.append(fold_acc)\n",
    "    return -1.0 * np.mean(accuracies)\n",
    "\n",
    "param_space = {\n",
    "    \"max_depth\" : scope.int(hp.quniform(\"max_depth\",3,15, 1)) ,\n",
    "    \"n_estimators\": scope.int(hp.quniform(\"n_estimators\",100,600,1)),\n",
    "    \"criterion\": hp.choice(\"criterion\",['gini','entropy']),\n",
    "    'max_features': hp.uniform(\"max_features\",0.01,1)\n",
    "    }\n",
    "    \n",
    "optimization_fuction = partial(optimize,x = X, y = y) \n",
    "trials = Trials()\n",
    "result = fmin(\n",
    "    fn = optimization_fuction,\n",
    "    space = param_space,\n",
    "    algo = tpe.suggest,\n",
    "    max_evals = 15,\n",
    "    trials = trials\n",
    ")\n",
    "print(result)"
   ]
  },
  {
   "cell_type": "markdown",
   "metadata": {},
   "source": [
    "### Optuna"
   ]
  },
  {
   "cell_type": "code",
   "execution_count": 92,
   "metadata": {},
   "outputs": [],
   "source": [
    "import optuna"
   ]
  },
  {
   "cell_type": "code",
   "execution_count": 94,
   "metadata": {},
   "outputs": [
    {
     "name": "stderr",
     "output_type": "stream",
     "text": [
      "\u001b[32m[I 2021-05-31 23:09:17,148]\u001b[0m A new study created in memory with name: no-name-939b8f95-9e18-49fe-8a5a-92311a4d2dc6\u001b[0m\n",
      "\u001b[32m[I 2021-05-31 23:09:29,964]\u001b[0m Trial 0 finished with value: -0.8320000000000001 and parameters: {'criterian': 'entropy', 'n_estimators': 589, 'max_depth': 4, 'max_features': 0.5115088327570344}. Best is trial 0 with value: -0.8320000000000001.\u001b[0m\n",
      "\u001b[32m[I 2021-05-31 23:09:38,464]\u001b[0m Trial 1 finished with value: -0.7415 and parameters: {'criterian': 'entropy', 'n_estimators': 690, 'max_depth': 8, 'max_features': 0.021449503032691525}. Best is trial 0 with value: -0.8320000000000001.\u001b[0m\n",
      "\u001b[32m[I 2021-05-31 23:09:58,257]\u001b[0m Trial 2 finished with value: -0.861 and parameters: {'criterian': 'entropy', 'n_estimators': 995, 'max_depth': 5, 'max_features': 0.3638733923101831}. Best is trial 2 with value: -0.861.\u001b[0m\n",
      "\u001b[32m[I 2021-05-31 23:10:02,050]\u001b[0m Trial 3 finished with value: -0.8895 and parameters: {'criterian': 'gini', 'n_estimators': 189, 'max_depth': 11, 'max_features': 0.32625965823318465}. Best is trial 3 with value: -0.8895.\u001b[0m\n",
      "\u001b[32m[I 2021-05-31 23:10:08,926]\u001b[0m Trial 4 finished with value: -0.8350000000000002 and parameters: {'criterian': 'entropy', 'n_estimators': 274, 'max_depth': 4, 'max_features': 0.7572914965920045}. Best is trial 3 with value: -0.8895.\u001b[0m\n",
      "\u001b[32m[I 2021-05-31 23:10:55,407]\u001b[0m Trial 5 finished with value: -0.908 and parameters: {'criterian': 'entropy', 'n_estimators': 1289, 'max_depth': 11, 'max_features': 0.6657731226920234}. Best is trial 5 with value: -0.908.\u001b[0m\n",
      "\u001b[32m[I 2021-05-31 23:11:25,111]\u001b[0m Trial 6 finished with value: -0.881 and parameters: {'criterian': 'gini', 'n_estimators': 1466, 'max_depth': 6, 'max_features': 0.506341205494475}. Best is trial 5 with value: -0.908.\u001b[0m\n",
      "\u001b[32m[I 2021-05-31 23:12:07,525]\u001b[0m Trial 7 finished with value: -0.9055 and parameters: {'criterian': 'entropy', 'n_estimators': 1068, 'max_depth': 9, 'max_features': 0.7562130284109886}. Best is trial 5 with value: -0.908.\u001b[0m\n",
      "\u001b[32m[I 2021-05-31 23:12:36,199]\u001b[0m Trial 8 finished with value: -0.8979999999999999 and parameters: {'criterian': 'gini', 'n_estimators': 1369, 'max_depth': 15, 'max_features': 0.38163263681905885}. Best is trial 5 with value: -0.908.\u001b[0m\n",
      "\u001b[32m[I 2021-05-31 23:12:46,082]\u001b[0m Trial 9 finished with value: -0.8140000000000001 and parameters: {'criterian': 'entropy', 'n_estimators': 632, 'max_depth': 3, 'max_features': 0.3731154685026704}. Best is trial 5 with value: -0.908.\u001b[0m\n",
      "\u001b[32m[I 2021-05-31 23:13:43,687]\u001b[0m Trial 10 finished with value: -0.9075000000000001 and parameters: {'criterian': 'entropy', 'n_estimators': 1222, 'max_depth': 14, 'max_features': 0.9947278653914579}. Best is trial 5 with value: -0.908.\u001b[0m\n",
      "\u001b[32m[I 2021-05-31 23:14:36,272]\u001b[0m Trial 11 finished with value: -0.9065000000000001 and parameters: {'criterian': 'entropy', 'n_estimators': 1234, 'max_depth': 14, 'max_features': 0.9625609809173803}. Best is trial 5 with value: -0.908.\u001b[0m\n",
      "\u001b[32m[I 2021-05-31 23:15:25,895]\u001b[0m Trial 12 finished with value: -0.9055 and parameters: {'criterian': 'entropy', 'n_estimators': 1165, 'max_depth': 12, 'max_features': 0.9589265620302038}. Best is trial 5 with value: -0.908.\u001b[0m\n",
      "\u001b[32m[I 2021-05-31 23:16:19,826]\u001b[0m Trial 13 finished with value: -0.9075000000000001 and parameters: {'criterian': 'entropy', 'n_estimators': 1488, 'max_depth': 13, 'max_features': 0.7617983581530106}. Best is trial 5 with value: -0.908.\u001b[0m\n",
      "\u001b[32m[I 2021-05-31 23:16:48,774]\u001b[0m Trial 14 finished with value: -0.906 and parameters: {'criterian': 'entropy', 'n_estimators': 913, 'max_depth': 10, 'max_features': 0.6416209269496363}. Best is trial 5 with value: -0.908.\u001b[0m\n"
     ]
    }
   ],
   "source": [
    "def optimize(trial, x,y):\n",
    "    entropy = trial.suggest_categorical('criterian',['gini','entropy'])\n",
    "    n_estimators = trial.suggest_int('n_estimators',100,1500)\n",
    "    max_depth = trial.suggest_int('max_depth',3,15)\n",
    "    max_features = trial.suggest_uniform('max_features',0.01,1)\n",
    "    \n",
    "    model = RandomForestClassifier(\n",
    "    n_estimators= n_estimators,\n",
    "    criterion=entropy,\n",
    "    max_depth=max_depth,\n",
    "    max_features= max_features)\n",
    "    kf = model_selection.StratifiedKFold(n_splits=5)\n",
    "    accuracies = []\n",
    "    for idx in kf.split(X=x,y=y):\n",
    "        train_idx,test_idx = idx[0],idx[1]\n",
    "        xtrain = x[train_idx]\n",
    "        ytrain = y[train_idx]\n",
    "        \n",
    "        xtest = x[test_idx]\n",
    "        ytest = y[test_idx]\n",
    "        \n",
    "        model.fit(xtrain,ytrain)\n",
    "        preds =  model.predict(xtest)\n",
    "        fold_acc = metrics.accuracy_score(ytest,preds)\n",
    "        accuracies.append(fold_acc)\n",
    "    return -1.0 * np.mean(accuracies)\n",
    "\n",
    "optimization_fuction = partial(optimize,x = X, y = y) \n",
    "\n",
    "study = optuna.create_study(direction='minimize')\n",
    "study.optimize(optimization_fuction, n_trials=15)"
   ]
  },
  {
   "cell_type": "code",
   "execution_count": null,
   "metadata": {},
   "outputs": [],
   "source": []
  },
  {
   "cell_type": "code",
   "execution_count": null,
   "metadata": {},
   "outputs": [],
   "source": []
  },
  {
   "cell_type": "code",
   "execution_count": null,
   "metadata": {},
   "outputs": [],
   "source": []
  },
  {
   "cell_type": "code",
   "execution_count": null,
   "metadata": {},
   "outputs": [],
   "source": []
  },
  {
   "cell_type": "code",
   "execution_count": null,
   "metadata": {},
   "outputs": [],
   "source": []
  }
 ],
 "metadata": {
  "kernelspec": {
   "display_name": "Python 3",
   "language": "python",
   "name": "python3"
  },
  "language_info": {
   "codemirror_mode": {
    "name": "ipython",
    "version": 3
   },
   "file_extension": ".py",
   "mimetype": "text/x-python",
   "name": "python",
   "nbconvert_exporter": "python",
   "pygments_lexer": "ipython3",
   "version": "3.8.3"
  }
 },
 "nbformat": 4,
 "nbformat_minor": 4
}
